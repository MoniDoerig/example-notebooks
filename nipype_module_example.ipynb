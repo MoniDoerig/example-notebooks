{
 "cells": [
  {
   "cell_type": "markdown",
   "id": "52d527e8-c988-4f60-9d12-cc39e248ad11",
   "metadata": {},
   "source": [
    "# Demonstrating the module system in Python and Nipype"
   ]
  },
  {
   "cell_type": "markdown",
   "id": "f66859e8-2ce5-4a49-b93d-1b0e3b5de5c1",
   "metadata": {},
   "source": [
    "## First, let's demonstrate that bet, a tool from the fsl toolkit, is not on our path"
   ]
  },
  {
   "cell_type": "code",
   "execution_count": null,
   "id": "4292c5cc-1458-4b9c-b386-3f112b3ef75c",
   "metadata": {},
   "outputs": [],
   "source": [
    "!bet"
   ]
  },
  {
   "cell_type": "markdown",
   "id": "35a53844-066e-4384-83b5-c8328622adea",
   "metadata": {},
   "source": [
    "# Now we can use lmod to load fsl in a specific version"
   ]
  },
  {
   "cell_type": "code",
   "execution_count": null,
   "id": "00345266-eb39-40c9-a29a-32cda10ebba3",
   "metadata": {},
   "outputs": [],
   "source": [
    "import lmod\n",
    "await lmod.load('fsl/6.0.4')\n",
    "await lmod.list()"
   ]
  },
  {
   "cell_type": "code",
   "execution_count": null,
   "id": "2e447e8b-a6fd-4365-9da3-3de21a4654b2",
   "metadata": {},
   "outputs": [],
   "source": [
    "!bet"
   ]
  },
  {
   "cell_type": "markdown",
   "id": "f09a1ba3-c01d-48df-8894-6c566907d6be",
   "metadata": {},
   "source": [
    "## Load afni as well"
   ]
  },
  {
   "cell_type": "code",
   "execution_count": null,
   "id": "67839715-b05f-4da5-9d8f-511ce48e8b2b",
   "metadata": {},
   "outputs": [],
   "source": [
    "await lmod.load('afni/22.3.06')\n",
    "await lmod.list()"
   ]
  },
  {
   "cell_type": "markdown",
   "id": "11961012-a84e-40d5-a2df-086ede86d163",
   "metadata": {},
   "source": [
    "## download test data"
   ]
  },
  {
   "cell_type": "code",
   "execution_count": null,
   "id": "b2513194-a19e-43e5-80a8-9dccc4d47bb9",
   "metadata": {},
   "outputs": [],
   "source": [
    "![ -f /neurodesktop-storage/sub-01_ses-01_7T_T1w_defaced.nii  ] && echo \"$FILE exist.\" || wget https://objectstorage.us-ashburn-1.oraclecloud.com/n/idrvm4tkz2a8/b/TOMCAT/o/TOMCAT_DIB/sub-01/ses-01_7T/anat/sub-01_ses-01_7T_T1w_defaced.nii.gz -O /neurodesktop-storage/sub-01_ses-01_7T_T1w_defaced.nii.gz \n",
    "![ -f /neurodesktop-storage/sub-01_ses-01_7T_T1w_defaced.nii  ] && echo \"$FILE exist.\" || gunzip /neurodesktop-storage/sub-01_ses-01_7T_T1w_defaced.nii.gz "
   ]
  },
  {
   "cell_type": "code",
   "execution_count": null,
   "id": "37f99b61-55a6-4016-a697-bf065a083c7f",
   "metadata": {},
   "outputs": [],
   "source": [
    "!ls /home/jovyan/neurodesktop-storage"
   ]
  },
  {
   "cell_type": "markdown",
   "id": "1cdb6e67-4927-4c2a-bc10-dfbfafe0b7af",
   "metadata": {},
   "source": [
    "## run nipype pipeline"
   ]
  },
  {
   "cell_type": "code",
   "execution_count": null,
   "id": "9687c577-73df-4b05-8bb0-8fcfc0a220a9",
   "metadata": {},
   "outputs": [],
   "source": [
    "from nipype.interfaces import fsl\n",
    "from nipype.interfaces import afni\n",
    "\n",
    "btr = fsl.BET()\n",
    "btr.inputs.in_file = '/home/jovyan/neurodesktop-storage/sub-01_ses-01_7T_T1w_defaced.nii'\n",
    "btr.inputs.frac = 0.4\n",
    "btr.inputs.out_file = '/home/jovyan/neurodesktop-storage/sub-01_ses-01_7T_T1w_defaced_brain.nii'\n",
    "res = btr.run() \n",
    "\n",
    "edge3 = afni.Edge3()\n",
    "edge3.inputs.in_file = '/home/jovyan/neurodesktop-storage/sub-01_ses-01_7T_T1w_defaced.nii'\n",
    "edge3.inputs.out_file = '/home/jovyan/neurodesktop-storage/sub-01_ses-01_7T_T1w_defaced_edges.nii'\n",
    "edge3.inputs.datum = 'byte'\n",
    "res = edge3.run()"
   ]
  },
  {
   "cell_type": "code",
   "execution_count": null,
   "id": "0bd12d00-3cf5-4f0e-b6f5-90007825d40c",
   "metadata": {},
   "outputs": [],
   "source": [
    "!ls /home/jovyan/neurodesktop-storage"
   ]
  },
  {
   "cell_type": "code",
   "execution_count": null,
   "id": "5adcb468-1c1c-414f-8150-e9d6d9964688",
   "metadata": {},
   "outputs": [],
   "source": [
    "# View 3D data\n",
    "import matplotlib.pyplot as plt\n",
    "\n",
    "def view_slices_3d(image_3d, slice_nbr, vmin, vmax, title=''):\n",
    "#   print('Matrix size: {}'.format(image_3d.shape))\n",
    "  fig = plt.figure(figsize=(15, 4))\n",
    "  plt.suptitle(title, fontsize=10)\n",
    "\n",
    "  plt.subplot(131)\n",
    "  plt.imshow(np.take(image_3d, slice_nbr, 2), vmin=vmin, vmax=vmax, cmap='gray')\n",
    "  plt.title('Axial');\n",
    "\n",
    "  plt.subplot(132)\n",
    "  image_rot = ndimage.rotate(np.take(image_3d, slice_nbr, 1),90)\n",
    "  plt.imshow(image_rot, vmin=vmin, vmax=vmax, cmap='gray')\n",
    "  plt.title('Coronal');\n",
    "\n",
    "  plt.subplot(133)\n",
    "  image_rot = ndimage.rotate(np.take(image_3d, slice_nbr, 0),90)\n",
    "  plt.imshow(image_rot, vmin=vmin, vmax=vmax, cmap='gray')\n",
    "  plt.title('Sagittal');\n",
    "  cbar=plt.colorbar()\n",
    "\n",
    "def get_figure():\n",
    "    \"\"\"\n",
    "    Returns figure and axis objects to plot on. \n",
    "    \"\"\"\n",
    "    fig, ax = plt.subplots(1)\n",
    "    plt.tick_params(top=False, right=False, which='both') \n",
    "    ax.spines['top'].set_visible(False)\n",
    "    ax.spines['right'].set_visible(False)\n",
    "    return fig, ax"
   ]
  },
  {
   "cell_type": "code",
   "execution_count": null,
   "id": "40eaeca2-a3bd-476a-8666-95a3d5fb1620",
   "metadata": {},
   "outputs": [],
   "source": [
    "import nibabel as nib\n",
    "from matplotlib import transforms\n",
    "from scipy import ndimage\n",
    "import numpy as np\n",
    "\n",
    "# load data\n",
    "brain_full = nib.load('/neurodesktop-storage/sub-01_ses-01_7T_T1w_defaced.nii').get_fdata()\n",
    "brain = nib.load('/neurodesktop-storage/sub-01_ses-01_7T_T1w_defaced_brain.nii.gz').get_fdata()\n",
    "edges = nib.load('/neurodesktop-storage/sub-01_ses-01_7T_T1w_defaced_edges.nii').get_fdata()"
   ]
  },
  {
   "cell_type": "code",
   "execution_count": null,
   "id": "baa81544-e316-4293-ad30-231dfdf60d29",
   "metadata": {},
   "outputs": [],
   "source": [
    "view_slices_3d(brain_full, slice_nbr=230, vmin=0, vmax=4000, title='Brain and Skull')\n",
    "view_slices_3d(brain, slice_nbr=230, vmin=0, vmax=4000, title='Brain Extracted')\n",
    "view_slices_3d(edges, slice_nbr=230, vmin=0, vmax=1000, title='Edges')"
   ]
  }
 ],
 "metadata": {
  "kernelspec": {
   "display_name": "Python 3 (ipykernel)",
   "language": "python",
   "name": "python3"
  },
  "language_info": {
   "codemirror_mode": {
    "name": "ipython",
    "version": 3
   },
   "file_extension": ".py",
   "mimetype": "text/x-python",
   "name": "python",
   "nbconvert_exporter": "python",
   "pygments_lexer": "ipython3",
   "version": "3.10.4"
  }
 },
 "nbformat": 4,
 "nbformat_minor": 5
}

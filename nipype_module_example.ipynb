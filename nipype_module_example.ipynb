{
 "cells": [
  {
   "cell_type": "markdown",
   "id": "52d527e8-c988-4f60-9d12-cc39e248ad11",
   "metadata": {},
   "source": [
    "# Demonstrating the module system in Python and Nipype"
   ]
  },
  {
   "cell_type": "markdown",
   "id": "f66859e8-2ce5-4a49-b93d-1b0e3b5de5c1",
   "metadata": {},
   "source": [
    "## First, let's demonstrate that bet, a tool from the fsl toolkit, is not on our path"
   ]
  },
  {
   "cell_type": "code",
   "execution_count": 1,
   "id": "4292c5cc-1458-4b9c-b386-3f112b3ef75c",
   "metadata": {},
   "outputs": [
    {
     "name": "stdout",
     "output_type": "stream",
     "text": [
      "/bin/bash: bet: command not found\n"
     ]
    }
   ],
   "source": [
    "!bet"
   ]
  },
  {
   "cell_type": "markdown",
   "id": "35a53844-066e-4384-83b5-c8328622adea",
   "metadata": {},
   "source": [
    "# Now we can use lmod to load fsl in a specific version"
   ]
  },
  {
   "cell_type": "code",
   "execution_count": 2,
   "id": "00345266-eb39-40c9-a29a-32cda10ebba3",
   "metadata": {},
   "outputs": [
    {
     "data": {
      "text/plain": [
       "['fsl/6.0.4']"
      ]
     },
     "execution_count": 2,
     "metadata": {},
     "output_type": "execute_result"
    }
   ],
   "source": [
    "import lmod\n",
    "await lmod.load('fsl/6.0.4')\n",
    "await lmod.list()"
   ]
  },
  {
   "cell_type": "code",
   "execution_count": 3,
   "id": "2e447e8b-a6fd-4365-9da3-3de21a4654b2",
   "metadata": {},
   "outputs": [
    {
     "name": "stdout",
     "output_type": "stream",
     "text": [
      "\n",
      "Usage:    bet <input> <output> [options]\n",
      "\n",
      "Main bet2 options:\n",
      "  -o          generate brain surface outline overlaid onto original image\n",
      "  -m          generate binary brain mask\n",
      "  -s          generate approximate skull image\n",
      "  -n          don't generate segmented brain image output\n",
      "  -f <f>      fractional intensity threshold (0->1); default=0.5; smaller values give larger brain outline estimates\n",
      "  -g <g>      vertical gradient in fractional intensity threshold (-1->1); default=0; positive values give larger brain outline at bottom, smaller at top\n",
      "  -r <r>      head radius (mm not voxels); initial surface sphere is set to half of this\n",
      "  -c <x y z>  centre-of-gravity (voxels not mm) of initial mesh surface.\n",
      "  -t          apply thresholding to segmented brain image and mask\n",
      "  -e          generates brain surface as mesh in .vtk format\n",
      "\n",
      "Variations on default bet2 functionality (mutually exclusive options):\n",
      "  (default)   just run bet2\n",
      "  -R          robust brain centre estimation (iterates BET several times)\n",
      "  -S          eye & optic nerve cleanup (can be useful in SIENA - disables -o option)\n",
      "  -B          bias field & neck cleanup (can be useful in SIENA)\n",
      "  -Z          improve BET if FOV is very small in Z (by temporarily padding end slices)\n",
      "  -F          apply to 4D FMRI data (uses -f 0.3 and dilates brain mask slightly)\n",
      "  -A          run bet2 and then betsurf to get additional skull and scalp surfaces (includes registrations)\n",
      "  -A2 <T2>    as with -A, when also feeding in non-brain-extracted T2 (includes registrations)\n",
      "\n",
      "Miscellaneous options:\n",
      "  -v          verbose (switch on diagnostic messages)\n",
      "  -h          display this help, then exits\n",
      "  -d          debug (don't delete temporary intermediate images)\n",
      "\n"
     ]
    }
   ],
   "source": [
    "!bet"
   ]
  },
  {
   "cell_type": "markdown",
   "id": "f09a1ba3-c01d-48df-8894-6c566907d6be",
   "metadata": {},
   "source": [
    "## Load afni as well"
   ]
  },
  {
   "cell_type": "code",
   "execution_count": 4,
   "id": "67839715-b05f-4da5-9d8f-511ce48e8b2b",
   "metadata": {},
   "outputs": [
    {
     "data": {
      "text/plain": [
       "['fsl/6.0.4', 'afni/22.3.06']"
      ]
     },
     "execution_count": 4,
     "metadata": {},
     "output_type": "execute_result"
    }
   ],
   "source": [
    "await lmod.load('afni/22.3.06')\n",
    "await lmod.list()"
   ]
  },
  {
   "cell_type": "markdown",
   "id": "11961012-a84e-40d5-a2df-086ede86d163",
   "metadata": {},
   "source": [
    "## download test data"
   ]
  },
  {
   "cell_type": "code",
   "execution_count": 5,
   "id": "b2513194-a19e-43e5-80a8-9dccc4d47bb9",
   "metadata": {},
   "outputs": [
    {
     "name": "stdout",
     "output_type": "stream",
     "text": [
      "--2022-12-09 01:27:44--  https://objectstorage.us-ashburn-1.oraclecloud.com/n/idrvm4tkz2a8/b/TOMCAT/o/TOMCAT_DIB/sub-01/ses-01_7T/anat/sub-01_ses-01_7T_T1w_defaced.nii.gz\n",
      "Resolving objectstorage.us-ashburn-1.oraclecloud.com (objectstorage.us-ashburn-1.oraclecloud.com)... 134.70.32.1, 134.70.24.1, 134.70.28.1\n",
      "Connecting to objectstorage.us-ashburn-1.oraclecloud.com (objectstorage.us-ashburn-1.oraclecloud.com)|134.70.32.1|:443... connected.\n",
      "HTTP request sent, awaiting response... 200 OK\n",
      "Length: 72682635 (69M) [application/octet-stream]\n",
      "Saving to: ‘/neurodesktop-storage/sub-01_ses-01_7T_T1w_defaced.nii.gz’\n",
      "\n",
      "/neurodesktop-stora 100%[===================>]  69.32M  22.3MB/s    in 3.1s    \n",
      "\n",
      "2022-12-09 01:27:48 (22.3 MB/s) - ‘/neurodesktop-storage/sub-01_ses-01_7T_T1w_defaced.nii.gz’ saved [72682635/72682635]\n",
      "\n"
     ]
    }
   ],
   "source": [
    "![ -f /neurodesktop-storage/sub-01_ses-01_7T_T1w_defaced.nii  ] && echo \"$FILE exist.\" || wget https://objectstorage.us-ashburn-1.oraclecloud.com/n/idrvm4tkz2a8/b/TOMCAT/o/TOMCAT_DIB/sub-01/ses-01_7T/anat/sub-01_ses-01_7T_T1w_defaced.nii.gz -O /neurodesktop-storage/sub-01_ses-01_7T_T1w_defaced.nii.gz \n",
    "![ -f /neurodesktop-storage/sub-01_ses-01_7T_T1w_defaced.nii  ] && echo \"$FILE exist.\" || gunzip /neurodesktop-storage/sub-01_ses-01_7T_T1w_defaced.nii.gz "
   ]
  },
  {
   "cell_type": "code",
   "execution_count": 6,
   "id": "37f99b61-55a6-4016-a697-bf065a083c7f",
   "metadata": {},
   "outputs": [
    {
     "name": "stdout",
     "output_type": "stream",
     "text": [
      "sub-01_ses-01_7T_T1w_defaced.nii\n"
     ]
    }
   ],
   "source": [
    "!ls /home/jovyan/neurodesktop-storage"
   ]
  },
  {
   "cell_type": "markdown",
   "id": "1cdb6e67-4927-4c2a-bc10-dfbfafe0b7af",
   "metadata": {},
   "source": [
    "## run nipype pipeline"
   ]
  },
  {
   "cell_type": "code",
   "execution_count": 7,
   "id": "9687c577-73df-4b05-8bb0-8fcfc0a220a9",
   "metadata": {},
   "outputs": [
    {
     "name": "stdout",
     "output_type": "stream",
     "text": [
      "221209-01:27:53,371 nipype.interface WARNING:\n",
      "\t FSLOUTPUTTYPE environment variable is not set. Setting FSLOUTPUTTYPE=NIFTI\n",
      "221209-01:28:03,335 nipype.interface INFO:\n",
      "\t stderr 2022-12-09T01:28:03.335072:++ 3dedge3: AFNI version=AFNI_22.3.06 (Nov 15 2022) [64-bit]\n",
      "221209-01:28:03,337 nipype.interface INFO:\n",
      "\t stderr 2022-12-09T01:28:03.337240:** AFNI converts NIFTI_datatype=4 (INT16) in file /home/jovyan/neurodesktop-storage/sub-01_ses-01_7T_T1w_defaced.nii to FLOAT32\n",
      "221209-01:28:03,338 nipype.interface INFO:\n",
      "\t stderr 2022-12-09T01:28:03.337240:     Warnings of this type will be muted for this session.\n",
      "221209-01:28:03,338 nipype.interface INFO:\n",
      "\t stderr 2022-12-09T01:28:03.337240:     Set AFNI_NIFTI_TYPE_WARN to YES to see them all, NO to see none.\n",
      "221209-01:28:03,339 nipype.interface INFO:\n",
      "\t stderr 2022-12-09T01:28:03.339555:\u001b[7m*+ WARNING:\u001b[0m   If you are performing spatial transformations on an oblique dset,\n",
      "221209-01:28:03,340 nipype.interface INFO:\n",
      "\t stderr 2022-12-09T01:28:03.339555:  such as /home/jovyan/neurodesktop-storage/sub-01_ses-01_7T_T1w_defaced.nii,\n",
      "221209-01:28:03,341 nipype.interface INFO:\n",
      "\t stderr 2022-12-09T01:28:03.339555:  or viewing/combining it with volumes of differing obliquity,\n",
      "221209-01:28:03,342 nipype.interface INFO:\n",
      "\t stderr 2022-12-09T01:28:03.339555:  you should consider running: \n",
      "221209-01:28:03,342 nipype.interface INFO:\n",
      "\t stderr 2022-12-09T01:28:03.339555:     3dWarp -deoblique \n",
      "221209-01:28:03,343 nipype.interface INFO:\n",
      "\t stderr 2022-12-09T01:28:03.339555:  on this and  other oblique datasets in the same session.\n",
      "221209-01:28:03,344 nipype.interface INFO:\n",
      "\t stderr 2022-12-09T01:28:03.339555: See 3dWarp -help for details.\n",
      "221209-01:28:03,345 nipype.interface INFO:\n",
      "\t stderr 2022-12-09T01:28:03.339555:++ Oblique dataset:/home/jovyan/neurodesktop-storage/sub-01_ses-01_7T_T1w_defaced.nii is 1.253358 degrees from plumb.\n",
      "221209-01:28:14,439 nipype.interface INFO:\n",
      "\t stderr 2022-12-09T01:28:14.439798:** ERROR (nifti_image_write_engine): cannot open output file '/neurodesktop-storage/sub-01_ses-01_7T_T1w_defaced_edges.nii'\n"
     ]
    }
   ],
   "source": [
    "from nipype.interfaces import fsl\n",
    "from nipype.interfaces import afni\n",
    "\n",
    "btr = fsl.BET()\n",
    "btr.inputs.in_file = '/home/jovyan/neurodesktop-storage/sub-01_ses-01_7T_T1w_defaced.nii'\n",
    "btr.inputs.frac = 0.4\n",
    "btr.inputs.out_file = '/home/jovyan/neurodesktop-storage/sub-01_ses-01_7T_T1w_defaced_brain.nii'\n",
    "res = btr.run() \n",
    "\n",
    "edge3 = afni.Edge3()\n",
    "edge3.inputs.in_file = '/home/jovyan/neurodesktop-storage/sub-01_ses-01_7T_T1w_defaced.nii'\n",
    "edge3.inputs.out_file = '/home/jovyan/neurodesktop-storage/sub-01_ses-01_7T_T1w_defaced_edges.nii'\n",
    "edge3.inputs.datum = 'byte'\n",
    "res = edge3.run()"
   ]
  },
  {
   "cell_type": "code",
   "execution_count": 8,
   "id": "0bd12d00-3cf5-4f0e-b6f5-90007825d40c",
   "metadata": {},
   "outputs": [
    {
     "name": "stdout",
     "output_type": "stream",
     "text": [
      "sub-01_ses-01_7T_T1w_defaced.nii  sub-01_ses-01_7T_T1w_defaced_brain.nii.gz\n"
     ]
    }
   ],
   "source": [
    "!ls /home/jovyan/neurodesktop-storage"
   ]
  },
  {
   "cell_type": "code",
   "execution_count": 9,
   "id": "5adcb468-1c1c-414f-8150-e9d6d9964688",
   "metadata": {},
   "outputs": [],
   "source": [
    "# View QSM data\n",
    "import matplotlib.pyplot as plt\n",
    "\n",
    "def view_slices_3d(image_3d, slice_nbr, vmin, vmax, title=''):\n",
    "#   print('Matrix size: {}'.format(image_3d.shape))\n",
    "  fig = plt.figure(figsize=(15, 4))\n",
    "  plt.suptitle(title, fontsize=10)\n",
    "\n",
    "  plt.subplot(131)\n",
    "  plt.imshow(np.take(image_3d, slice_nbr, 2), vmin=vmin, vmax=vmax, cmap='gray')\n",
    "  plt.title('Axial');\n",
    "\n",
    "  plt.subplot(132)\n",
    "  image_rot = ndimage.rotate(np.take(image_3d, slice_nbr, 1),90)\n",
    "  plt.imshow(image_rot, vmin=vmin, vmax=vmax, cmap='gray')\n",
    "  plt.title('Coronal');\n",
    "\n",
    "  plt.subplot(133)\n",
    "  image_rot = ndimage.rotate(np.take(image_3d, slice_nbr, 0),90)\n",
    "  plt.imshow(image_rot, vmin=vmin, vmax=vmax, cmap='gray')\n",
    "  plt.title('Sagittal');\n",
    "  cbar=plt.colorbar()\n",
    "\n",
    "def get_figure():\n",
    "    \"\"\"\n",
    "    Returns figure and axis objects to plot on. \n",
    "    \"\"\"\n",
    "    fig, ax = plt.subplots(1)\n",
    "    plt.tick_params(top=False, right=False, which='both') \n",
    "    ax.spines['top'].set_visible(False)\n",
    "    ax.spines['right'].set_visible(False)\n",
    "    return fig, ax"
   ]
  },
  {
   "cell_type": "code",
   "execution_count": 10,
   "id": "40eaeca2-a3bd-476a-8666-95a3d5fb1620",
   "metadata": {},
   "outputs": [
    {
     "ename": "FileNotFoundError",
     "evalue": "No such file or no access: '/neurodesktop-storage/sub-01_ses-01_7T_T1w_defaced_edges.nii'",
     "output_type": "error",
     "traceback": [
      "\u001b[0;31m---------------------------------------------------------------------------\u001b[0m",
      "\u001b[0;31mFileNotFoundError\u001b[0m                         Traceback (most recent call last)",
      "File \u001b[0;32m/opt/conda/lib/python3.10/site-packages/nibabel/loadsave.py:90\u001b[0m, in \u001b[0;36mload\u001b[0;34m(filename, **kwargs)\u001b[0m\n\u001b[1;32m     89\u001b[0m \u001b[38;5;28;01mtry\u001b[39;00m:\n\u001b[0;32m---> 90\u001b[0m     stat_result \u001b[38;5;241m=\u001b[39m \u001b[43mos\u001b[49m\u001b[38;5;241;43m.\u001b[39;49m\u001b[43mstat\u001b[49m\u001b[43m(\u001b[49m\u001b[43mfilename\u001b[49m\u001b[43m)\u001b[49m\n\u001b[1;32m     91\u001b[0m \u001b[38;5;28;01mexcept\u001b[39;00m \u001b[38;5;167;01mOSError\u001b[39;00m:\n",
      "\u001b[0;31mFileNotFoundError\u001b[0m: [Errno 2] No such file or directory: '/neurodesktop-storage/sub-01_ses-01_7T_T1w_defaced_edges.nii'",
      "\nDuring handling of the above exception, another exception occurred:\n",
      "\u001b[0;31mFileNotFoundError\u001b[0m                         Traceback (most recent call last)",
      "Cell \u001b[0;32mIn[10], line 9\u001b[0m\n\u001b[1;32m      7\u001b[0m brain_full \u001b[38;5;241m=\u001b[39m nib\u001b[38;5;241m.\u001b[39mload(\u001b[38;5;124m'\u001b[39m\u001b[38;5;124m/neurodesktop-storage/sub-01_ses-01_7T_T1w_defaced.nii\u001b[39m\u001b[38;5;124m'\u001b[39m)\u001b[38;5;241m.\u001b[39mget_fdata()\n\u001b[1;32m      8\u001b[0m brain \u001b[38;5;241m=\u001b[39m nib\u001b[38;5;241m.\u001b[39mload(\u001b[38;5;124m'\u001b[39m\u001b[38;5;124m/neurodesktop-storage/sub-01_ses-01_7T_T1w_defaced_brain.nii.gz\u001b[39m\u001b[38;5;124m'\u001b[39m)\u001b[38;5;241m.\u001b[39mget_fdata()\n\u001b[0;32m----> 9\u001b[0m edges \u001b[38;5;241m=\u001b[39m \u001b[43mnib\u001b[49m\u001b[38;5;241;43m.\u001b[39;49m\u001b[43mload\u001b[49m\u001b[43m(\u001b[49m\u001b[38;5;124;43m'\u001b[39;49m\u001b[38;5;124;43m/neurodesktop-storage/sub-01_ses-01_7T_T1w_defaced_edges.nii\u001b[39;49m\u001b[38;5;124;43m'\u001b[39;49m\u001b[43m)\u001b[49m\u001b[38;5;241m.\u001b[39mget_fdata()\n",
      "File \u001b[0;32m/opt/conda/lib/python3.10/site-packages/nibabel/loadsave.py:92\u001b[0m, in \u001b[0;36mload\u001b[0;34m(filename, **kwargs)\u001b[0m\n\u001b[1;32m     90\u001b[0m     stat_result \u001b[38;5;241m=\u001b[39m os\u001b[38;5;241m.\u001b[39mstat(filename)\n\u001b[1;32m     91\u001b[0m \u001b[38;5;28;01mexcept\u001b[39;00m \u001b[38;5;167;01mOSError\u001b[39;00m:\n\u001b[0;32m---> 92\u001b[0m     \u001b[38;5;28;01mraise\u001b[39;00m \u001b[38;5;167;01mFileNotFoundError\u001b[39;00m(\u001b[38;5;124mf\u001b[39m\u001b[38;5;124m\"\u001b[39m\u001b[38;5;124mNo such file or no access: \u001b[39m\u001b[38;5;124m'\u001b[39m\u001b[38;5;132;01m{\u001b[39;00mfilename\u001b[38;5;132;01m}\u001b[39;00m\u001b[38;5;124m'\u001b[39m\u001b[38;5;124m\"\u001b[39m)\n\u001b[1;32m     93\u001b[0m \u001b[38;5;28;01mif\u001b[39;00m stat_result\u001b[38;5;241m.\u001b[39mst_size \u001b[38;5;241m<\u001b[39m\u001b[38;5;241m=\u001b[39m \u001b[38;5;241m0\u001b[39m:\n\u001b[1;32m     94\u001b[0m     \u001b[38;5;28;01mraise\u001b[39;00m ImageFileError(\u001b[38;5;124mf\u001b[39m\u001b[38;5;124m\"\u001b[39m\u001b[38;5;124mEmpty file: \u001b[39m\u001b[38;5;124m'\u001b[39m\u001b[38;5;132;01m{\u001b[39;00mfilename\u001b[38;5;132;01m}\u001b[39;00m\u001b[38;5;124m'\u001b[39m\u001b[38;5;124m\"\u001b[39m)\n",
      "\u001b[0;31mFileNotFoundError\u001b[0m: No such file or no access: '/neurodesktop-storage/sub-01_ses-01_7T_T1w_defaced_edges.nii'"
     ]
    }
   ],
   "source": [
    "import nibabel as nib\n",
    "from matplotlib import transforms\n",
    "from scipy import ndimage\n",
    "import numpy as np\n",
    "\n",
    "# load data\n",
    "brain_full = nib.load('/neurodesktop-storage/sub-01_ses-01_7T_T1w_defaced.nii').get_fdata()\n",
    "brain = nib.load('/neurodesktop-storage/sub-01_ses-01_7T_T1w_defaced_brain.nii.gz').get_fdata()\n",
    "edges = nib.load('/neurodesktop-storage/sub-01_ses-01_7T_T1w_defaced_edges.nii').get_fdata()"
   ]
  },
  {
   "cell_type": "code",
   "execution_count": null,
   "id": "baa81544-e316-4293-ad30-231dfdf60d29",
   "metadata": {},
   "outputs": [],
   "source": [
    "view_slices_3d(brain_full, slice_nbr=230, vmin=0, vmax=4000, title='Brain and Skull')\n",
    "view_slices_3d(brain, slice_nbr=230, vmin=0, vmax=4000, title='Brain Extracted')\n",
    "view_slices_3d(edges, slice_nbr=230, vmin=0, vmax=1000, title='Edges')"
   ]
  }
 ],
 "metadata": {
  "kernelspec": {
   "display_name": "Python 3 (ipykernel)",
   "language": "python",
   "name": "python3"
  },
  "language_info": {
   "codemirror_mode": {
    "name": "ipython",
    "version": 3
   },
   "file_extension": ".py",
   "mimetype": "text/x-python",
   "name": "python",
   "nbconvert_exporter": "python",
   "pygments_lexer": "ipython3",
   "version": "3.10.4"
  }
 },
 "nbformat": 4,
 "nbformat_minor": 5
}

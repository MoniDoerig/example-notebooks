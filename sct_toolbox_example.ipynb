{
 "cells": [
  {
   "cell_type": "markdown",
   "id": "52d527e8-c988-4f60-9d12-cc39e248ad11",
   "metadata": {},
   "source": [
    "# Demonstrating the Spinal Cord Toolbox (SCT) use via Neurodesk"
   ]
  },
  {
   "cell_type": "markdown",
   "id": "35a53844-066e-4384-83b5-c8328622adea",
   "metadata": {},
   "source": [
    "In Neurodesk we can use lmod to load specific versions of tools. Here we load the spinalcordtoolbox in a specific version:"
   ]
  },
  {
   "cell_type": "code",
   "execution_count": null,
   "id": "7a4b17a6",
   "metadata": {},
   "outputs": [],
   "source": [
    "import lmod\n",
    "await lmod.load('spinalcordtoolbox/5.8')\n",
    "await lmod.list()"
   ]
  },
  {
   "cell_type": "markdown",
   "id": "14ea35b6-b419-41f9-a199-0d727868b23f",
   "metadata": {},
   "source": [
    "In this interactive notebook we will go through a series of processing steps specific to spinal cord MRI analysis. We first need to import the necessary tools and setup the filenames and folders in the notebook environment."
   ]
  },
  {
   "cell_type": "markdown",
   "id": "d320ec74-dd2e-4162-a834-409f822593e4",
   "metadata": {},
   "source": [
    "The rest of this notebook is copied from the neurolibre project with minor path modifications and code adjustments to work with the current version of SCT: https://mathieuboudreau.github.io/pipelines-jupyter-book/01/sct_mtsat"
   ]
  },
  {
   "cell_type": "code",
   "execution_count": null,
   "id": "2e447e8b-a6fd-4365-9da3-3de21a4654b2",
   "metadata": {},
   "outputs": [],
   "source": [
    "%matplotlib inline\n",
    "import matplotlib.pyplot as plt\n",
    "import matplotlib.image as mpimg\n",
    "import numpy as np\n",
    "import sys\n",
    "import os\n",
    "from os.path import join\n",
    "from IPython.display import clear_output\n",
    "\n",
    "base_path = os.getcwd()\n"
   ]
  },
  {
   "cell_type": "code",
   "execution_count": null,
   "id": "b46d1f4b-edef-495d-8491-3ddc6510564c",
   "metadata": {},
   "outputs": [],
   "source": [
    "# Download example data\n",
    "!sct_download_data -d sct_example_data -o /home/jovyan/example-notebooks/sct_example_data\n",
    "\n",
    "# Go to MT folder\n",
    "os.chdir('/home/jovyan/example-notebooks/sct_example_data/mt/')"
   ]
  },
  {
   "cell_type": "code",
   "execution_count": null,
   "id": "f0eed0e8-f6ce-4e6a-b584-ffc4059f7ab4",
   "metadata": {},
   "outputs": [],
   "source": [
    "# Jupyter Notebook config\n",
    "verbose = True # False clears cells\n",
    "\n",
    "# Folder/filename config\n",
    "parent_dirs = os.path.split(base_path)\n",
    "mt_folder_relative = os.path.join('sct_example_data/mt')\n",
    "qc_path = os.path.join(base_path, 'qc')\n",
    "\n",
    "t1w = 't1w'\n",
    "mt0 = 'mt0'\n",
    "mt1 = 'mt1'\n",
    "label_c3c4 = 'label_c3c4'\n",
    "warp_template2anat = 'warp_template2anat'\n",
    "mtr = 'mtr'\n",
    "mtsat = 'mtsat'\n",
    "t1map = 't1map'\n",
    "\n",
    "file_ext = '.nii.gz'\n",
    "\n",
    "if not verbose:\n",
    "    clear_output()"
   ]
  },
  {
   "cell_type": "markdown",
   "id": "03eb4552-18fb-4aab-aaf0-0e9c9a746ef0",
   "metadata": {},
   "source": [
    "The first processing step consists in segmenting the spinal cord. This is done automatically using an algorithm called Optic that finds the spinal cord centerline, followed by a second algorithm called DeepSeg-SC that relies on deep learning for segmenting the cord."
   ]
  },
  {
   "cell_type": "code",
   "execution_count": null,
   "id": "111d856b-ab62-4c78-aebc-3075de9e91e7",
   "metadata": {},
   "outputs": [],
   "source": [
    "# Segment spinal cord\n",
    "!sct_deepseg_sc -i {t1w+file_ext} -c t1 -qc {qc_path}\n",
    "\n",
    "if not verbose:\n",
    "    clear_output()"
   ]
  },
  {
   "cell_type": "markdown",
   "id": "397195b5-1536-45b1-bb52-d17d84d2fb39",
   "metadata": {},
   "source": [
    "Results of the segmentation appear in Figure 1."
   ]
  },
  {
   "cell_type": "code",
   "execution_count": null,
   "id": "aa0a7f99-98d9-487b-9756-0415727a5339",
   "metadata": {},
   "outputs": [],
   "source": [
    "# Plot QC figures\n",
    "\n",
    "if sys.platform == 'darwin':\n",
    "    # For local testing on OSX    \n",
    "    sct_deepseg_sc_qc = 'qc/sct_example_data/mt/sct_deepseg_sc'\n",
    "else:\n",
    "    # For linux and on-line Binder execution\n",
    "    sct_deepseg_sc_qc = join(qc_path, parent_dirs[-1], mt_folder_relative, 'sct_deepseg_sc')\n",
    "\n",
    "folders = list(filter(lambda x: os.path.isdir(os.path.join(sct_deepseg_sc_qc, x)), os.listdir(sct_deepseg_sc_qc)))\n",
    "\n",
    "qc_date = max(folders)\n",
    "\n",
    "sct_deepseg_sc_qc_dir = join(sct_deepseg_sc_qc, qc_date)\n",
    "\n",
    "bkg = mpimg.imread(join(sct_deepseg_sc_qc_dir, 'bkg_img.png'))\n",
    "overlay = mpimg.imread(join(sct_deepseg_sc_qc_dir, 'overlay_img.png'))\n",
    "plt.figure(figsize = (20,2))\n",
    "plt.axis('off')\n",
    "imgplot = plt.imshow(bkg)\n",
    "imgplot = plt.imshow(overlay,alpha=0.3)"
   ]
  },
  {
   "cell_type": "markdown",
   "id": "2a2fce01-c4e9-4bdd-bc7f-a7e4a1c31a3a",
   "metadata": {},
   "source": [
    "Figure 1. Quality control (QC) SCT module segmentation results. The segmentation (in red) is overlaid on the T1-weighted anatomical scan (in grayscale). Orientation is axial.\n",
    "\n"
   ]
  },
  {
   "cell_type": "markdown",
   "id": "892be880-a33f-4028-b626-d3b96b6ad566",
   "metadata": {},
   "source": [
    "Using the generated segmentation, we create a mask around the spinal cord which will be used to crop the image for faster processing and more accurate registration results: the registration algorithm will concentrate on the spinal cord and not on the surrounding tissue (e.g., muscles, neck fat, etc.) which could move independently from the spinal cord and hence produce spurious motion correction results."
   ]
  },
  {
   "cell_type": "code",
   "execution_count": null,
   "id": "b15c914d-952c-4351-a18b-a1a10bb91347",
   "metadata": {},
   "outputs": [],
   "source": [
    "# Create mask\n",
    "!sct_create_mask -i {t1w+file_ext} -p centerline,{t1w+'_seg'+file_ext} -size 35mm -o {t1w+'_mask'+file_ext}\n",
    "\n",
    "# Crop data for faster processing\n",
    "!sct_crop_image -i {t1w+file_ext} -m {t1w+'_mask'+file_ext} -o {t1w+'_crop'+file_ext}\n",
    "\n",
    "if not verbose:\n",
    "    clear_output()"
   ]
  },
  {
   "cell_type": "markdown",
   "id": "ca93d3bb-d438-48ff-b4f8-b470fcb58403",
   "metadata": {},
   "source": [
    "Then, we register the proton density weighted (PD) image to the T1w image, and the MT-weighted image to the T1w image, so we end up with the T1w, MTw and PDw images all aligned together, which is a necessary condition for then computing quantitative MR metrics (here: MTsat).\n",
    "\n"
   ]
  },
  {
   "cell_type": "code",
   "execution_count": null,
   "id": "155381a3-3f53-45cb-b2fd-9c13fff27055",
   "metadata": {},
   "outputs": [],
   "source": [
    "# Register PD->T1w\n",
    "# Tips: here we only use rigid transformation because both images have very similar sequence parameters. We don't want to use SyN/BSplineSyN to avoid introducing spurious deformations.\n",
    "!sct_register_multimodal -i {mt0+file_ext} -d {t1w+'_crop'+file_ext} -param step=1,type=im,algo=rigid,slicewise=1,metric=CC -x spline\n",
    "\n",
    "# Register MT->T1w\n",
    "!sct_register_multimodal -i {mt1+file_ext} -d {t1w+'_crop'+file_ext} -param step=1,type=im,algo=rigid,slicewise=1,metric=CC -x spline\n",
    "\n",
    "if not verbose:\n",
    "    clear_output()"
   ]
  },
  {
   "cell_type": "markdown",
   "id": "b16a0e73-1e10-4324-8587-8541134e330d",
   "metadata": {},
   "source": [
    "Next step consists in registering the PAM50 template to the T1w image. We first create a label, centered in the spinal cord at level C3-C4 intervertebral disc, then we apply a multi-step non-linear registration algorithm."
   ]
  },
  {
   "cell_type": "code",
   "execution_count": null,
   "id": "e5c5c1d4-ac06-4cb9-9e5b-06fe8d04b341",
   "metadata": {},
   "outputs": [],
   "source": [
    "# Create label 4 at the mid-FOV, because we know the FOV is centered at C3-C4 disc.\n",
    "!sct_label_utils -i {t1w+'_seg'+file_ext} -create-seg-mid 4 -o {label_c3c4+file_ext}\n",
    "\n",
    "# Register template->T1w_ax (using template-T1w as initial transformation)\n",
    "!sct_register_to_template -i {t1w+'_crop'+file_ext} -s {t1w+'_seg'+file_ext} -ldisc {label_c3c4+file_ext} -ref subject -c t1 -param step=1,type=seg,algo=slicereg,metric=MeanSquares,smooth=2:step=2,type=im,algo=bsplinesyn,metric=MeanSquares,iter=5,gradStep=0.5 -qc {qc_path}\n",
    "\n",
    "if not verbose:\n",
    "    clear_output()"
   ]
  },
  {
   "cell_type": "markdown",
   "id": "31e67191-557b-4e15-95b4-87cc6f1475df",
   "metadata": {},
   "source": [
    "Once the PAM50 is registered with the T1w image, we can warp all objects pertaining to the PAM50 into the T1w native space. These objects notably include a white matter atlas, which will be subsequently used to extract qMR metrics within specific white matter tracts."
   ]
  },
  {
   "cell_type": "code",
   "execution_count": null,
   "id": "1108bb46-d989-437d-b095-11e072122254",
   "metadata": {},
   "outputs": [],
   "source": [
    "# Warp template\n",
    "!sct_warp_template -d {t1w+'_crop'+file_ext} -w {warp_template2anat+file_ext} -qc {qc_path}\n",
    "\n",
    "if not verbose:\n",
    "    clear_output()"
   ]
  },
  {
   "cell_type": "markdown",
   "id": "308610e2-429a-458a-bc93-064acddfb199",
   "metadata": {},
   "source": [
    "Results of the registration/warming appear in Figure 2."
   ]
  },
  {
   "cell_type": "code",
   "execution_count": null,
   "id": "2e9e4587-16ab-4d8a-97e9-05d8f9ffe603",
   "metadata": {},
   "outputs": [],
   "source": [
    "# Plot QC figures\n",
    "if sys.platform == 'darwin':\n",
    "    # For local testing on OSX    \n",
    "    sct_warp_template_qc = 'qc/sct_example_data/mt/sct_warp_template'\n",
    "else:\n",
    "    # For linux and on-line Binder execution\n",
    "    sct_warp_template_qc = join(qc_path, parent_dirs[-1],  mt_folder_relative, 'sct_warp_template')\n",
    "\n",
    "folders = list(filter(lambda x: os.path.isdir(os.path.join(sct_warp_template_qc, x)), os.listdir(sct_warp_template_qc)))\n",
    "qc_date = max(folders)\n",
    "\n",
    "sct_warp_template_qc_dir = join(sct_warp_template_qc, qc_date)\n",
    "\n",
    "bkg = mpimg.imread(join(sct_warp_template_qc_dir, 'bkg_img.png'))\n",
    "overlay = mpimg.imread(join(sct_warp_template_qc_dir, 'overlay_img.png'))\n",
    "plt.figure(figsize = (20,2))\n",
    "plt.axis('off')\n",
    "imgplot = plt.imshow(bkg)\n",
    "imgplot = plt.imshow(overlay,alpha=0.3)"
   ]
  },
  {
   "cell_type": "markdown",
   "id": "17a26386-28c2-4cdd-91d4-e8901d80bc90",
   "metadata": {},
   "source": [
    "Figure 2. Quality control (QC) SCT module registration/warping results of the PAM50 template and atlas to the T1w native space. The white matter (in blue) is overlaid on the T1-weighted anatomical scan (in grayscale). Orientation is axial.Once co-registration between images and registration to the template is complete, we can venture into computing our favorite qMR metrics. Here, we compute the magnetization transfer ratio (MTR) and the magnetization transfer saturation (MTsat).\n",
    "\n"
   ]
  },
  {
   "cell_type": "markdown",
   "id": "0ce3b344-dcb0-4780-af8e-633a96a2a2d7",
   "metadata": {},
   "source": [
    "Once co-registration between images and registration to the template is complete, we can venture into computing our favorite qMR metrics. Here, we compute the magnetization transfer ratio (MTR) and the magnetization transfer saturation (MTsat)."
   ]
  },
  {
   "cell_type": "code",
   "execution_count": null,
   "id": "88002f53-c2f6-466a-a8ef-1c66769ede57",
   "metadata": {},
   "outputs": [],
   "source": [
    "# Compute MTR\n",
    "!sct_compute_mtr -mt1 {mt1+'_reg'+file_ext} -mt0 {mt0+'_reg'+file_ext}\n",
    "\n",
    "# Compute MTsat and T1\n",
    "!sct_compute_mtsat -mt {mt1+'_reg'+file_ext} -pd {mt0+'_reg'+file_ext} -t1 {t1w+'_crop'+file_ext} -trmt 57 -trpd 57 -trt1 15 -famt 9 -fapd 9 -fat1 15\n",
    "\n",
    "if not verbose:\n",
    "    clear_output()"
   ]
  },
  {
   "cell_type": "markdown",
   "id": "05a6db46-5c1e-4003-a942-bdc02119efd6",
   "metadata": {},
   "source": [
    "Now that our metrics are computed, we want to extract their values within specific tracts of the spinal cord. This is done with the function sct_extract_metric."
   ]
  },
  {
   "cell_type": "code",
   "execution_count": null,
   "id": "e88784d8-9f0c-4498-9574-13c1321e9a8f",
   "metadata": {},
   "outputs": [],
   "source": [
    "# Extract MTR, MTsat and T1 in WM between C2 and C4 vertebral levels\n",
    "!sct_extract_metric -i mtr.nii.gz -l 51 -vert 2:4 -perlevel 1 -o mtr_in_wm.csv\n",
    "!sct_extract_metric -i mtsat.nii.gz -l 51 -vert 2:4 -perlevel 1 -o mtsat_in_wm.csv\n",
    "!sct_extract_metric -i t1map.nii.gz -l 51 -vert 2:4 -perlevel 1 -o t1_in_wm.csv\n",
    "\n",
    "if not verbose:\n",
    "    clear_output()"
   ]
  },
  {
   "cell_type": "markdown",
   "id": "f0236cad-fe87-4897-b320-2fee4e2be4c4",
   "metadata": {},
   "source": [
    "Results are output as csv files, which we can then open and display as bar graphs."
   ]
  },
  {
   "cell_type": "code",
   "execution_count": null,
   "id": "8caee1f1-8386-420b-ad9b-bfffbd1bc2fc",
   "metadata": {},
   "outputs": [],
   "source": [
    "!pip install pandas"
   ]
  },
  {
   "cell_type": "code",
   "execution_count": null,
   "id": "16ca0687-1b43-4a6c-9ae1-1c72da3014ed",
   "metadata": {},
   "outputs": [],
   "source": [
    "# Display plots of results\n",
    "import pandas as pd\n",
    "fig, ax = plt.subplots(ncols=3, figsize=(15,4))\n",
    "\n",
    "# Build dic for plot\n",
    "plot_dic = {'file': ['mtr_in_wm.csv', 'mtsat_in_wm.csv', 't1_in_wm.csv'],\n",
    "            'ylabel': ['MTR [%]', 'MTsat [a.u.]', 'T1 [s]']}\n",
    "\n",
    "# Loop across dic entries\n",
    "for i in range(len(plot_dic)+1):\n",
    "    df = pd.read_csv(plot_dic['file'][i])\n",
    "    df.plot.bar(x='VertLevel', y='WA()', rot=0, ax=ax[i], legend=False)\n",
    "    ax[i].set_ylabel(plot_dic['ylabel'][i])\n",
    "    ax[i].yaxis.grid()\n"
   ]
  },
  {
   "cell_type": "markdown",
   "id": "6453da33-fdd5-407d-bd28-153822b3d127",
   "metadata": {},
   "source": [
    "Figure 3. Quantitative MRI metrics in WM between C2 and C4 vertebral levels. The three calculated metrics from this dataset using SCT are the magnetization transfer ratio (MTR – [%]), magnetization transfer saturation (MTsat – [a.u.]), and longitudinal relaxation time (T1 – [s])."
   ]
  }
 ],
 "metadata": {
  "kernelspec": {
   "display_name": "Python 3 (ipykernel)",
   "language": "python",
   "name": "python3"
  },
  "language_info": {
   "codemirror_mode": {
    "name": "ipython",
    "version": 3
   },
   "file_extension": ".py",
   "mimetype": "text/x-python",
   "name": "python",
   "nbconvert_exporter": "python",
   "pygments_lexer": "ipython3",
   "version": "3.10.4"
  }
 },
 "nbformat": 4,
 "nbformat_minor": 5
}

{
 "cells": [
  {
   "cell_type": "markdown",
   "id": "e5c34bf1",
   "metadata": {
    "colab_type": "text",
    "id": "view-in-github"
   },
   "source": [
    "<a href=\"https://hub.play-sydney.neurodesk.org/user/neurodesk-example-notebooks-toudo5lh/lab/workspaces/auto-4/tree/structural%20imaging/nipype_module_example.ipynb\" target=\"_parent\"><img src=\"https://img.shields.io/badge/launch-binder-579aca.svg?logo=data:image/png;base64,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\" alt=\"Open In Binder\"/>  </a>\n",
    "<a href=\"https://colab.research.google.com/github/NeuroDesk/example-notebooks/blob/main/structural%20imaging/nipype_module_example.ipynb\" target=\"_parent\"><img src=\"https://colab.research.google.com/assets/colab-badge.svg\" alt=\"Open In Colab\"/>   </a>"
   ]
  },
  {
   "cell_type": "markdown",
   "id": "1b937be1",
   "metadata": {},
   "source": [
    "Author: Steffen Bollmann"
   ]
  },
  {
   "cell_type": "markdown",
   "id": "7hrfYzlFU6pN",
   "metadata": {
    "id": "7hrfYzlFU6pN"
   },
   "source": [
    "## Setup Neurodesk"
   ]
  },
  {
   "cell_type": "code",
   "execution_count": 1,
   "id": "DwyOSXw4U3Kn",
   "metadata": {
    "colab": {
     "base_uri": "https://localhost:8080/"
    },
    "id": "DwyOSXw4U3Kn",
    "outputId": "9596fece-8f39-4b8a-b188-b9af0d12fdcd"
   },
   "outputs": [],
   "source": [
    "import os\n",
    "import sys\n",
    "IN_COLAB = 'google.colab' in sys.modules\n",
    "\n",
    "if IN_COLAB:\n",
    "  os.environ[\"LD_PRELOAD\"] = \"\";\n",
    "  os.environ[\"APPTAINER_BINDPATH\"] = \"/content\"\n",
    "  os.environ[\"MPLCONFIGDIR\"] = \"/content/matplotlib-mpldir\"\n",
    "  os.environ[\"LMOD_CMD\"] = \"/usr/share/lmod/lmod/libexec/lmod\"\n",
    "\n",
    "  !curl -J -O https://raw.githubusercontent.com/NeuroDesk/neurocommand/main/googlecolab_setup.sh\n",
    "  !chmod +x googlecolab_setup.sh\n",
    "  !./googlecolab_setup.sh\n",
    "\n",
    "  os.environ[\"MODULEPATH\"] = ':'.join(map(str, list(map(lambda x: os.path.join(os.path.abspath('/cvmfs/neurodesk.ardc.edu.au/neurodesk-modules/'), x),os.listdir('/cvmfs/neurodesk.ardc.edu.au/neurodesk-modules/')))))\n"
   ]
  },
  {
   "cell_type": "markdown",
   "id": "52d527e8-c988-4f60-9d12-cc39e248ad11",
   "metadata": {
    "id": "52d527e8-c988-4f60-9d12-cc39e248ad11"
   },
   "source": [
    "# Demonstrating the module system in Python and Nipype"
   ]
  },
  {
   "cell_type": "markdown",
   "id": "f66859e8-2ce5-4a49-b93d-1b0e3b5de5c1",
   "metadata": {
    "id": "f66859e8-2ce5-4a49-b93d-1b0e3b5de5c1"
   },
   "source": [
    "## First, let's demonstrate that bet, a tool from the fsl toolkit, is not on our path"
   ]
  },
  {
   "cell_type": "code",
   "execution_count": 2,
   "id": "4292c5cc-1458-4b9c-b386-3f112b3ef75c",
   "metadata": {
    "colab": {
     "base_uri": "https://localhost:8080/"
    },
    "id": "4292c5cc-1458-4b9c-b386-3f112b3ef75c",
    "outputId": "32346fdf-3726-48b2-ddf8-124635340a80"
   },
   "outputs": [
    {
     "name": "stdout",
     "output_type": "stream",
     "text": [
      "/bin/bash: bet: command not found\n"
     ]
    }
   ],
   "source": [
    "!bet"
   ]
  },
  {
   "cell_type": "markdown",
   "id": "35a53844-066e-4384-83b5-c8328622adea",
   "metadata": {
    "id": "35a53844-066e-4384-83b5-c8328622adea"
   },
   "source": [
    "# Now we can use lmod to load fsl in a specific version"
   ]
  },
  {
   "cell_type": "code",
   "execution_count": 3,
   "id": "00345266-eb39-40c9-a29a-32cda10ebba3",
   "metadata": {
    "colab": {
     "base_uri": "https://localhost:8080/"
    },
    "id": "00345266-eb39-40c9-a29a-32cda10ebba3",
    "outputId": "86874c10-4735-471f-e569-23a6c9f944df"
   },
   "outputs": [
    {
     "data": {
      "text/plain": [
       "['fsl/6.0.5.1']"
      ]
     },
     "execution_count": 3,
     "metadata": {},
     "output_type": "execute_result"
    }
   ],
   "source": [
    "import lmod\n",
    "await lmod.load('fsl/6.0.5.1')\n",
    "await lmod.list()"
   ]
  },
  {
   "cell_type": "code",
   "execution_count": 4,
   "id": "67154a11-068d-4d8c-b77a-17b752d1e15b",
   "metadata": {},
   "outputs": [
    {
     "name": "stdout",
     "output_type": "stream",
     "text": [
      "6.0.5.1:57b01774\n"
     ]
    }
   ],
   "source": [
    "from nipype.interfaces.fsl.base import Info\n",
    "print(Info.version())\n",
    "# if the FSL version is changed using lmod above, the kernel of the notebook needs to be restarted!"
   ]
  },
  {
   "cell_type": "code",
   "execution_count": 5,
   "id": "2e447e8b-a6fd-4365-9da3-3de21a4654b2",
   "metadata": {
    "colab": {
     "base_uri": "https://localhost:8080/"
    },
    "id": "2e447e8b-a6fd-4365-9da3-3de21a4654b2",
    "outputId": "d5667809-043f-408a-9d46-bbc291775cc2"
   },
   "outputs": [
    {
     "name": "stdout",
     "output_type": "stream",
     "text": [
      "\n",
      "Usage:    bet <input> <output> [options]\n",
      "\n",
      "Main bet2 options:\n",
      "  -o          generate brain surface outline overlaid onto original image\n",
      "  -m          generate binary brain mask\n",
      "  -s          generate approximate skull image\n",
      "  -n          don't generate segmented brain image output\n",
      "  -f <f>      fractional intensity threshold (0->1); default=0.5; smaller values give larger brain outline estimates\n",
      "  -g <g>      vertical gradient in fractional intensity threshold (-1->1); default=0; positive values give larger brain outline at bottom, smaller at top\n",
      "  -r <r>      head radius (mm not voxels); initial surface sphere is set to half of this\n",
      "  -c <x y z>  centre-of-gravity (voxels not mm) of initial mesh surface.\n",
      "  -t          apply thresholding to segmented brain image and mask\n",
      "  -e          generates brain surface as mesh in .vtk format\n",
      "\n",
      "Variations on default bet2 functionality (mutually exclusive options):\n",
      "  (default)   just run bet2\n",
      "  -R          robust brain centre estimation (iterates BET several times)\n",
      "  -S          eye & optic nerve cleanup (can be useful in SIENA - disables -o option)\n",
      "  -B          bias field & neck cleanup (can be useful in SIENA)\n",
      "  -Z          improve BET if FOV is very small in Z (by temporarily padding end slices)\n",
      "  -F          apply to 4D FMRI data (uses -f 0.3 and dilates brain mask slightly)\n",
      "  -A          run bet2 and then betsurf to get additional skull and scalp surfaces (includes registrations)\n",
      "  -A2 <T2>    as with -A, when also feeding in non-brain-extracted T2 (includes registrations)\n",
      "\n",
      "Miscellaneous options:\n",
      "  -v          verbose (switch on diagnostic messages)\n",
      "  -h          display this help, then exits\n",
      "  -d          debug (don't delete temporary intermediate images)\n",
      "\n"
     ]
    }
   ],
   "source": [
    "!bet"
   ]
  },
  {
   "cell_type": "markdown",
   "id": "f09a1ba3-c01d-48df-8894-6c566907d6be",
   "metadata": {
    "id": "f09a1ba3-c01d-48df-8894-6c566907d6be"
   },
   "source": [
    "## Load afni as well"
   ]
  },
  {
   "cell_type": "code",
   "execution_count": 6,
   "id": "67839715-b05f-4da5-9d8f-511ce48e8b2b",
   "metadata": {
    "colab": {
     "base_uri": "https://localhost:8080/"
    },
    "id": "67839715-b05f-4da5-9d8f-511ce48e8b2b",
    "outputId": "db381252-d613-4959-b99f-f22c71eb5d26"
   },
   "outputs": [
    {
     "data": {
      "text/plain": [
       "['fsl/6.0.5.1', 'afni/22.3.06']"
      ]
     },
     "execution_count": 6,
     "metadata": {},
     "output_type": "execute_result"
    }
   ],
   "source": [
    "await lmod.load('afni/22.3.06')\n",
    "await lmod.list()"
   ]
  },
  {
   "cell_type": "markdown",
   "id": "11961012-a84e-40d5-a2df-086ede86d163",
   "metadata": {
    "id": "11961012-a84e-40d5-a2df-086ede86d163"
   },
   "source": [
    "## download test data"
   ]
  },
  {
   "cell_type": "code",
   "execution_count": 7,
   "id": "b2513194-a19e-43e5-80a8-9dccc4d47bb9",
   "metadata": {
    "colab": {
     "base_uri": "https://localhost:8080/"
    },
    "id": "b2513194-a19e-43e5-80a8-9dccc4d47bb9",
    "outputId": "57372e2a-1225-4c7b-e6c4-548fe1852411"
   },
   "outputs": [
    {
     "name": "stdout",
     "output_type": "stream",
     "text": [
      " exist.\n",
      " exist.\n"
     ]
    }
   ],
   "source": [
    "![ -f ./sub-01_ses-01_7T_T1w_defaced.nii  ] && echo \"$FILE exist.\" || wget https://objectstorage.us-ashburn-1.oraclecloud.com/n/idrvm4tkz2a8/b/TOMCAT/o/TOMCAT_DIB/sub-01/ses-01_7T/anat/sub-01_ses-01_7T_T1w_defaced.nii.gz -O ./sub-01_ses-01_7T_T1w_defaced.nii.gz \n",
    "![ -f ./sub-01_ses-01_7T_T1w_defaced.nii  ] && echo \"$FILE exist.\" || gunzip ./sub-01_ses-01_7T_T1w_defaced.nii.gz "
   ]
  },
  {
   "cell_type": "code",
   "execution_count": 8,
   "id": "37f99b61-55a6-4016-a697-bf065a083c7f",
   "metadata": {
    "colab": {
     "base_uri": "https://localhost:8080/"
    },
    "id": "37f99b61-55a6-4016-a697-bf065a083c7f",
    "outputId": "791c495f-3ccd-4b6a-af64-0f3ba732663f"
   },
   "outputs": [
    {
     "name": "stdout",
     "output_type": "stream",
     "text": [
      "nipype_module_example.ipynb  sct_toolbox_example.ipynb\n",
      "qsmxt_example.ipynb\t     sub-01_ses-01_7T_T1w_defaced.nii\n"
     ]
    }
   ],
   "source": [
    "!ls "
   ]
  },
  {
   "cell_type": "markdown",
   "id": "1cdb6e67-4927-4c2a-bc10-dfbfafe0b7af",
   "metadata": {
    "id": "1cdb6e67-4927-4c2a-bc10-dfbfafe0b7af"
   },
   "source": [
    "## run nipype pipeline"
   ]
  },
  {
   "cell_type": "code",
   "execution_count": 9,
   "id": "46d3e618",
   "metadata": {},
   "outputs": [],
   "source": [
    "%%capture\n",
    "!pip install nipype"
   ]
  },
  {
   "cell_type": "code",
   "execution_count": null,
   "id": "9687c577-73df-4b05-8bb0-8fcfc0a220a9",
   "metadata": {
    "colab": {
     "base_uri": "https://localhost:8080/"
    },
    "id": "9687c577-73df-4b05-8bb0-8fcfc0a220a9",
    "outputId": "5fb0c02a-4250-4276-982b-7bf15b54d6e9"
   },
   "outputs": [
    {
     "name": "stdout",
     "output_type": "stream",
     "text": [
      "230609-05:17:32,581 nipype.interface WARNING:\n",
      "\t FSLOUTPUTTYPE environment variable is not set. Setting FSLOUTPUTTYPE=NIFTI\n",
      "230609-05:17:43,61 nipype.interface INFO:\n",
      "\t stderr 2023-06-09T05:17:43.061552:++ 3dedge3: AFNI version=AFNI_22.3.06 (Nov 15 2022) [64-bit]\n",
      "230609-05:17:43,63 nipype.interface INFO:\n",
      "\t stderr 2023-06-09T05:17:43.063344:** AFNI converts NIFTI_datatype=4 (INT16) in file /home/jovyan/example-notebooks/structural_imaging/sub-01_ses-01_7T_T1w_defaced.nii to FLOAT32\n",
      "230609-05:17:43,64 nipype.interface INFO:\n",
      "\t stderr 2023-06-09T05:17:43.063344:     Warnings of this type will be muted for this session.\n",
      "230609-05:17:43,65 nipype.interface INFO:\n",
      "\t stderr 2023-06-09T05:17:43.063344:     Set AFNI_NIFTI_TYPE_WARN to YES to see them all, NO to see none.\n",
      "230609-05:17:43,65 nipype.interface INFO:\n",
      "\t stderr 2023-06-09T05:17:43.065945:\u001b[7m*+ WARNING:\u001b[0m   If you are performing spatial transformations on an oblique dset,\n",
      "230609-05:17:43,66 nipype.interface INFO:\n",
      "\t stderr 2023-06-09T05:17:43.065945:  such as /home/jovyan/example-notebooks/structural_imaging/sub-01_ses-01_7T_T1w_defaced.nii,\n",
      "230609-05:17:43,67 nipype.interface INFO:\n",
      "\t stderr 2023-06-09T05:17:43.065945:  or viewing/combining it with volumes of differing obliquity,\n",
      "230609-05:17:43,67 nipype.interface INFO:\n",
      "\t stderr 2023-06-09T05:17:43.065945:  you should consider running: \n",
      "230609-05:17:43,68 nipype.interface INFO:\n",
      "\t stderr 2023-06-09T05:17:43.065945:     3dWarp -deoblique \n",
      "230609-05:17:43,69 nipype.interface INFO:\n",
      "\t stderr 2023-06-09T05:17:43.065945:  on this and  other oblique datasets in the same session.\n",
      "230609-05:17:43,69 nipype.interface INFO:\n",
      "\t stderr 2023-06-09T05:17:43.065945: See 3dWarp -help for details.\n",
      "230609-05:17:43,70 nipype.interface INFO:\n",
      "\t stderr 2023-06-09T05:17:43.065945:++ Oblique dataset:/home/jovyan/example-notebooks/structural_imaging/sub-01_ses-01_7T_T1w_defaced.nii is 1.253358 degrees from plumb.\n"
     ]
    }
   ],
   "source": [
    "from nipype.interfaces import fsl\n",
    "from nipype.interfaces import afni\n",
    "\n",
    "btr = fsl.BET()\n",
    "btr.inputs.in_file = './sub-01_ses-01_7T_T1w_defaced.nii'\n",
    "btr.inputs.frac = 0.4\n",
    "btr.inputs.out_file = './sub-01_ses-01_7T_T1w_defaced_brain.nii'\n",
    "res = btr.run() \n",
    "\n",
    "edge3 = afni.Edge3()\n",
    "edge3.inputs.in_file = './sub-01_ses-01_7T_T1w_defaced.nii'\n",
    "edge3.inputs.out_file = './sub-01_ses-01_7T_T1w_defaced_edges.nii'\n",
    "edge3.inputs.datum = 'byte'\n",
    "res = edge3.run()"
   ]
  },
  {
   "cell_type": "code",
   "execution_count": null,
   "id": "0bd12d00-3cf5-4f0e-b6f5-90007825d40c",
   "metadata": {
    "colab": {
     "base_uri": "https://localhost:8080/"
    },
    "id": "0bd12d00-3cf5-4f0e-b6f5-90007825d40c",
    "outputId": "2920bcc1-2441-4904-b157-43231bfb2f66"
   },
   "outputs": [],
   "source": [
    "!ls"
   ]
  },
  {
   "cell_type": "code",
   "execution_count": null,
   "id": "5adcb468-1c1c-414f-8150-e9d6d9964688",
   "metadata": {
    "id": "5adcb468-1c1c-414f-8150-e9d6d9964688"
   },
   "outputs": [],
   "source": [
    "# View 3D data\n",
    "import matplotlib.pyplot as plt\n",
    "\n",
    "def view_slices_3d(image_3d, slice_nbr, vmin, vmax, title=''):\n",
    "#   print('Matrix size: {}'.format(image_3d.shape))\n",
    "  fig = plt.figure(figsize=(15, 4))\n",
    "  plt.suptitle(title, fontsize=10)\n",
    "\n",
    "  plt.subplot(131)\n",
    "  plt.imshow(np.take(image_3d, slice_nbr, 2), vmin=vmin, vmax=vmax, cmap='gray')\n",
    "  plt.title('Axial');\n",
    "\n",
    "  plt.subplot(132)\n",
    "  image_rot = ndimage.rotate(np.take(image_3d, slice_nbr, 1),90)\n",
    "  plt.imshow(image_rot, vmin=vmin, vmax=vmax, cmap='gray')\n",
    "  plt.title('Coronal');\n",
    "\n",
    "  plt.subplot(133)\n",
    "  image_rot = ndimage.rotate(np.take(image_3d, slice_nbr, 0),90)\n",
    "  plt.imshow(image_rot, vmin=vmin, vmax=vmax, cmap='gray')\n",
    "  plt.title('Sagittal');\n",
    "  cbar=plt.colorbar()\n",
    "\n",
    "def get_figure():\n",
    "    \"\"\"\n",
    "    Returns figure and axis objects to plot on. \n",
    "    \"\"\"\n",
    "    fig, ax = plt.subplots(1)\n",
    "    plt.tick_params(top=False, right=False, which='both') \n",
    "    ax.spines['top'].set_visible(False)\n",
    "    ax.spines['right'].set_visible(False)\n",
    "    return fig, ax"
   ]
  },
  {
   "cell_type": "code",
   "execution_count": null,
   "id": "40eaeca2-a3bd-476a-8666-95a3d5fb1620",
   "metadata": {
    "id": "40eaeca2-a3bd-476a-8666-95a3d5fb1620"
   },
   "outputs": [],
   "source": [
    "import nibabel as nib\n",
    "from matplotlib import transforms\n",
    "from scipy import ndimage\n",
    "import numpy as np\n",
    "\n",
    "# load data\n",
    "brain_full = nib.load('./sub-01_ses-01_7T_T1w_defaced.nii').get_fdata()\n",
    "brain = nib.load('./sub-01_ses-01_7T_T1w_defaced_brain.nii.gz').get_fdata()\n",
    "edges = nib.load('./sub-01_ses-01_7T_T1w_defaced_edges.nii').get_fdata()"
   ]
  },
  {
   "cell_type": "code",
   "execution_count": null,
   "id": "baa81544-e316-4293-ad30-231dfdf60d29",
   "metadata": {
    "colab": {
     "base_uri": "https://localhost:8080/",
     "height": 1000
    },
    "id": "baa81544-e316-4293-ad30-231dfdf60d29",
    "outputId": "bd35b551-1d7e-4779-fed1-129f7d1a84c3"
   },
   "outputs": [],
   "source": [
    "view_slices_3d(brain_full, slice_nbr=230, vmin=0, vmax=4000, title='Brain and Skull')\n",
    "view_slices_3d(brain, slice_nbr=230, vmin=0, vmax=4000, title='Brain Extracted')\n",
    "view_slices_3d(edges, slice_nbr=230, vmin=0, vmax=1000, title='Edges')"
   ]
  },
  {
   "cell_type": "code",
   "execution_count": null,
   "id": "96512381-6be3-4c01-8f4c-97adb4530ddc",
   "metadata": {},
   "outputs": [],
   "source": [
    "import ipyniivue\n",
    "nv = ipyniivue.Niivue(crosshair_color=[0,1,0,1])\n",
    "nv.add_volume('./sub-01_ses-01_7T_T1w_defaced_brain.nii.gz')\n",
    "nv"
   ]
  }
 ],
 "metadata": {
  "colab": {
   "include_colab_link": true,
   "provenance": []
  },
  "kernelspec": {
   "display_name": "Python 3 (ipykernel)",
   "language": "python",
   "name": "python3"
  },
  "language_info": {
   "codemirror_mode": {
    "name": "ipython",
    "version": 3
   },
   "file_extension": ".py",
   "mimetype": "text/x-python",
   "name": "python",
   "nbconvert_exporter": "python",
   "pygments_lexer": "ipython3",
   "version": "3.10.4"
  }
 },
 "nbformat": 4,
 "nbformat_minor": 5
}

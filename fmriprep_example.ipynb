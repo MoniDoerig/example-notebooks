{
 "cells": [
  {
   "cell_type": "code",
   "execution_count": null,
   "metadata": {
    "id": "iLDvJXSuIHQj"
   },
   "outputs": [],
   "source": [
    "# load fmriprep\n",
    "import lmod\n",
    "import os\n",
    "await lmod.load('fmriprep/22.1.1')\n",
    "await lmod.list()"
   ]
  },
  {
   "cell_type": "code",
   "execution_count": null,
   "metadata": {
    "id": "rQqqxHF-KR6S"
   },
   "outputs": [],
   "source": [
    "%%bash\n",
    "# Request a freesurfer license and store it in your homedirectory. This is just an exampe - please replace with your license id:\n",
    "echo \"Steffen.Bollmann@cai.uq.edu.au\" > ~/.license\n",
    "echo \"21029\" >> ~/.license\n",
    "echo \"*Cqyn12sqTCxo\" >> ~/.license\n",
    "echo \"FSxgcvGkNR59Y\" >> ~/.license"
   ]
  },
  {
   "cell_type": "code",
   "execution_count": null,
   "metadata": {
    "id": "Ken5z9TvLlpd"
   },
   "outputs": [],
   "source": [
    "%%bash\n",
    "# download data\n",
    "datalad install https://github.com/OpenNeuroDatasets/ds000102.git\n",
    "cd ds000102 && datalad get sub-08"
   ]
  },
  {
   "cell_type": "code",
   "execution_count": null,
   "metadata": {
    "id": "ckmHbTCMJrOL"
   },
   "outputs": [],
   "source": [
    "%%bash\n",
    "export ITK_GLOBAL_DEFAULT_NUMBER_OF_THREADS=2 # specify the number of threads you want to use\n",
    "export MPLCONFIGDIR=~/matplotlib-mpldir\n",
    "\n",
    "fmriprep ds000102/ content/ participant --fs-license-file ~/.license --output-spaces T1w MNI152NLin2009cAsym fsaverage fsnative --participant-label 08 --nprocs $ITK_GLOBAL_DEFAULT_NUMBER_OF_THREADS --mem 10000 --skip_bids_validation -v "
   ]
  }
 ],
 "metadata": {
  "colab": {
   "private_outputs": true,
   "provenance": []
  },
  "kernelspec": {
   "display_name": "Python 3 (ipykernel)",
   "language": "python",
   "name": "python3"
  },
  "language_info": {
   "codemirror_mode": {
    "name": "ipython",
    "version": 3
   },
   "file_extension": ".py",
   "mimetype": "text/x-python",
   "name": "python",
   "nbconvert_exporter": "python",
   "pygments_lexer": "ipython3",
   "version": "3.10.4"
  }
 },
 "nbformat": 4,
 "nbformat_minor": 4
}

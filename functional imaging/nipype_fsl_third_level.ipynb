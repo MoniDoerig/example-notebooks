{
 "cells": [
  {
   "attachments": {},
   "cell_type": "markdown",
   "id": "1b61111b",
   "metadata": {},
   "source": [
    "Author: Monika Doerig\n",
    "\n",
    "Original peper: https://www.frontiersin.org/articles/10.3389/fnimg.2022.953215/full\n",
    "\n",
    "Original code: https://osf.io/prg53/?view_only=9d7974834a484cdb972bcc3989589b78"
   ]
  },
  {
   "attachments": {},
   "cell_type": "markdown",
   "id": "57cae5bf",
   "metadata": {},
   "source": [
    "## Setup Neurodesk"
   ]
  },
  {
   "cell_type": "code",
   "execution_count": null,
   "id": "63aae31a",
   "metadata": {},
   "outputs": [],
   "source": [
    "%%capture\n",
    "import os\n",
    "import sys\n",
    "IN_COLAB = 'google.colab' in sys.modules\n",
    "\n",
    "if IN_COLAB:\n",
    "  os.environ[\"LD_PRELOAD\"] = \"\";\n",
    "  os.environ[\"APPTAINER_BINDPATH\"] = \"/content\"\n",
    "  os.environ[\"MPLCONFIGDIR\"] = \"/content/matplotlib-mpldir\"\n",
    "  os.environ[\"LMOD_CMD\"] = \"/usr/share/lmod/lmod/libexec/lmod\"\n",
    "\n",
    "  !curl -J -O https://raw.githubusercontent.com/NeuroDesk/neurocommand/main/googlecolab_setup.sh\n",
    "  !chmod +x googlecolab_setup.sh\n",
    "  !./googlecolab_setup.sh\n",
    "\n",
    "  os.environ[\"MODULEPATH\"] = ':'.join(map(str, list(map(lambda x: os.path.join(os.path.abspath('/cvmfs/neurodesk.ardc.edu.au/neurodesk-modules/'), x),os.listdir('/cvmfs/neurodesk.ardc.edu.au/neurodesk-modules/')))))\n"
   ]
  },
  {
   "attachments": {},
   "cell_type": "markdown",
   "id": "8724dac1",
   "metadata": {},
   "source": [
    "# Third-level GLM using Nipype FSL\n",
    "\n",
    "In this notebook, we recreate the third-level GLM of FSL GUI using nipype code. For each nipype node, we list the corresponding fsl command from the log file. The dataset we use is a Flanker task, which can be downloaded [here](https://openneuro.org/datasets/ds000102/versions/00001).\n",
    "\n",
    "We also borrow some helps from this [document](https://nipype.readthedocs.io/en/latest/users/examples/fmri_fsl.html). "
   ]
  },
  {
   "cell_type": "code",
   "execution_count": 1,
   "id": "28f5a6fd-0f5f-4323-8296-b37eb3392711",
   "metadata": {
    "tags": []
   },
   "outputs": [
    {
     "data": {
      "text/plain": [
       "['fsl/6.0.5.1']"
      ]
     },
     "execution_count": 1,
     "metadata": {},
     "output_type": "execute_result"
    }
   ],
   "source": [
    "#load fsl module\n",
    "import lmod\n",
    "await lmod.purge(force=True)\n",
    "await lmod.load('fsl/6.0.5.1')\n",
    "await lmod.list()"
   ]
  },
  {
   "cell_type": "code",
   "execution_count": 2,
   "id": "43dd7a44-55ec-4671-9c47-8331930220c6",
   "metadata": {
    "tags": []
   },
   "outputs": [],
   "source": [
    "import os\n",
    "os.environ[\"FSLDIR\"]=\"/cvmfs/neurodesk.ardc.edu.au/containers/fsl_6.0.5.1_20221016/fsl_6.0.5.1_20221016.simg/opt/fsl-6.0.5.1/\"\n",
    "os.environ[\"FSLOUTPUTTYPE\"]=\"NIFTI_GZ\""
   ]
  },
  {
   "attachments": {},
   "cell_type": "markdown",
   "id": "90c95764",
   "metadata": {},
   "source": [
    "## Preparation\n",
    "Import all the relevant libraries needed for the preprocessing stage."
   ]
  },
  {
   "cell_type": "code",
   "execution_count": 3,
   "id": "0af3a22f",
   "metadata": {
    "tags": []
   },
   "outputs": [],
   "source": [
    "from __future__ import print_function\n",
    "from __future__ import division\n",
    "from builtins import str\n",
    "from builtins import range\n",
    "\n",
    "import os, stat  # system functions\n",
    "import getpass\n",
    "from glob import glob\n",
    "\n",
    "import numpy as np\n",
    "from nipype import Function\n",
    "from nipype.interfaces import fsl, utility as util, io as nio\n",
    "import nipype.pipeline.engine as pe  # pypeline engine\n",
    "import nipype.algorithms.modelgen as model  # model generation\n",
    "import nipype.algorithms.rapidart as ra  # artifact detection\n",
    "\n",
    "# this one is for `cluster` see this issue https://github.com/nipy/nipype/issues/1415\n",
    "#fsl.FSLCommand._cmd_prefix = '/opt/fsl-6.0.4/bin/'"
   ]
  },
  {
   "attachments": {},
   "cell_type": "markdown",
   "id": "c2de1038",
   "metadata": {},
   "source": [
    "#### Set up data path"
   ]
  },
  {
   "cell_type": "code",
   "execution_count": 4,
   "id": "5d1625c4-5a2d-4137-b257-6303eb72b6fa",
   "metadata": {},
   "outputs": [],
   "source": [
    "# Adapted code\n",
    "# Input: Set path of second level outputs\n",
    "data_dir = '/neurodesktop-storage/Data/Flanker/output_level2/level2_results/'\n",
    "# Output: Set path where nipype will store stepwise results\n",
    "exp_dir = '/neurodesktop-storage/Data/Flanker/output_level3/'"
   ]
  },
  {
   "attachments": {},
   "cell_type": "markdown",
   "id": "e8731c78",
   "metadata": {},
   "source": [
    "Start the workflow"
   ]
  },
  {
   "cell_type": "code",
   "execution_count": 5,
   "id": "2655a82e",
   "metadata": {
    "tags": []
   },
   "outputs": [],
   "source": [
    "wf = pe.Workflow(name='level3', base_dir=exp_dir)\n",
    "wf.config[\"execution\"][\"crashfile_format\"] = \"txt\""
   ]
  },
  {
   "attachments": {},
   "cell_type": "markdown",
   "id": "1d7673d9",
   "metadata": {},
   "source": [
    "The following two nodes (`infosource` & `dg`) together define all inputs required for the preprocessing workflow"
   ]
  },
  {
   "cell_type": "code",
   "execution_count": 6,
   "id": "cfe6f1cf",
   "metadata": {
    "tags": []
   },
   "outputs": [],
   "source": [
    "# we want to group the outcome by contrast not subject\n",
    "contr_list = [1,2,3,4]\n",
    "infosource = pe.Node(util.IdentityInterface(fields=[\"contr_id\"]),\n",
    "                  name=\"infosource\")\n",
    "infosource.iterables = [(\"contr_id\", contr_list)]"
   ]
  },
  {
   "cell_type": "code",
   "execution_count": 7,
   "id": "0de65137",
   "metadata": {
    "tags": []
   },
   "outputs": [],
   "source": [
    "# here we use SelectFiles, instead of DataGrabber, because the former is more flexible with formatting syntax\n",
    "templates = {\n",
    "    \"copes\":\"contrast_{contr_id}/*/_contr_id_{contr_id}/*/cope*.nii.gz\",\n",
    "    \"varcopes\":\"contrast_{contr_id}/*/_contr_id_{contr_id}/*/varcope*.nii.gz\",\n",
    "    \"masks\":\"contrast_{contr_id}/*/_contr_id_{contr_id}/*/mask.nii.gz\"\n",
    "}\n",
    "dg = pe.Node(interface=nio.SelectFiles(templates),\n",
    "             name=\"selectfiles\")\n",
    "dg.inputs.base_directory = data_dir\n",
    "\n",
    "wf.connect([\n",
    "        (infosource, dg, [(\"contr_id\", \"contr_id\")])\n",
    "])"
   ]
  },
  {
   "attachments": {},
   "cell_type": "markdown",
   "id": "4e42deb6",
   "metadata": {},
   "source": [
    "## Third-level GLM\n",
    "\n",
    "Combining results from multiple runs of one subject into one"
   ]
  },
  {
   "attachments": {},
   "cell_type": "markdown",
   "id": "8b8bcee1",
   "metadata": {},
   "source": [
    "### Higher-level input files preparation"
   ]
  },
  {
   "attachments": {},
   "cell_type": "markdown",
   "id": "8e6dd680",
   "metadata": {},
   "source": [
    "#### Step 1: Merge registered copes & varcopes & masks\n",
    "\n",
    "\n",
    "**Corresponding FSL command:**\n",
    "```\n",
    "/usr/local/fsl/bin/fslmerge -t mask (masks from all 26 inputs)\n",
    "/usr/local/fsl/bin/fslmerge -t cope (copes from all 26 inputs)\n",
    "/usr/local/fsl/bin/fslmerge -t varcop (varcopes from all 26 inputs)\n",
    "```"
   ]
  },
  {
   "cell_type": "code",
   "execution_count": 8,
   "id": "6c2198ff",
   "metadata": {
    "tags": []
   },
   "outputs": [],
   "source": [
    "copemerge = pe.Node(\n",
    "    interface=fsl.Merge(dimension='t'),\n",
    "    iterfield=['in_files'],\n",
    "    name=\"copemerge\")\n",
    "\n",
    "varcopemerge = pe.Node(\n",
    "    interface=fsl.Merge(dimension='t'),\n",
    "    iterfield=['in_files'],\n",
    "    name=\"varcopemerge\")\n",
    "\n",
    "maskmerge = pe.Node(\n",
    "    interface=fsl.Merge(dimension='t'),\n",
    "    iterfield=['in_files'],\n",
    "    name=\"maskmerge\")\n",
    "\n",
    "\n",
    "def repeat_mask(file):\n",
    "    n_sub = 26\n",
    "    import numpy as np\n",
    "    mask_lst = [file]\n",
    "    repeated = np.repeat(mask_lst,26)\n",
    "    return list(repeated)\n",
    "\n",
    "\n",
    "wf.connect(dg, 'copes', copemerge, 'in_files')\n",
    "wf.connect(dg, 'varcopes', varcopemerge, 'in_files')\n",
    "wf.connect(dg, ('masks',repeat_mask), maskmerge, 'in_files')"
   ]
  },
  {
   "attachments": {},
   "cell_type": "markdown",
   "id": "53a0b87a",
   "metadata": {},
   "source": [
    "#### Step 2: Making mask\n",
    "\n",
    "In FSL, there are many commands about `maskunique`, which is unless for the second level. We can ignore it.\n",
    "\n",
    "**Corresponding FSL command:**\n",
    "```\n",
    "/usr/local/fsl/bin/fslmaths mask -Tmin mask\n",
    "```"
   ]
  },
  {
   "cell_type": "code",
   "execution_count": 9,
   "id": "b5c33437",
   "metadata": {
    "tags": []
   },
   "outputs": [],
   "source": [
    "# /usr/local/fsl/bin/fslmaths mask -Tmin mask\n",
    "minmask = pe.Node(\n",
    "    interface=fsl.ImageMaths(op_string='-Tmin'),\n",
    "    iterfield=['in_file'],\n",
    "    name='minmask')\n",
    "\n",
    "wf.connect(maskmerge, 'merged_file', minmask, 'in_file')"
   ]
  },
  {
   "attachments": {},
   "cell_type": "markdown",
   "id": "c7940940",
   "metadata": {},
   "source": [
    "#### Step 3: Masking copes & varcopes\n",
    "\n",
    "**Corresponding FSL command:**\n",
    "\n",
    "we have four contrasts so the following commands repeat four times\n",
    "\n",
    "```\n",
    "/usr/local/fsl/bin/fslmaths cope1 -mas mask cope1\n",
    "/usr/local/fsl/bin/fslmaths varcope1 -mas mask varcope1\n",
    "```"
   ]
  },
  {
   "cell_type": "code",
   "execution_count": 10,
   "id": "7b5a6c7b",
   "metadata": {
    "tags": []
   },
   "outputs": [],
   "source": [
    "maskcope = pe.Node(\n",
    "    interface=fsl.ImageMaths(op_string='-mas'),\n",
    "    iterfield=['in_file', 'in_file2'],\n",
    "    name='maskcope')\n",
    "\n",
    "maskvarcope = pe.Node(\n",
    "    interface=fsl.ImageMaths(op_string='-mas'),\n",
    "    iterfield=['in_file', 'in_file2'],\n",
    "    name='maskvarcope')\n",
    "\n",
    "wf.connect(copemerge, 'merged_file', maskcope, 'in_file')\n",
    "wf.connect(minmask, 'out_file', maskcope, 'in_file2')\n",
    "wf.connect(varcopemerge, 'merged_file', maskvarcope, 'in_file')\n",
    "wf.connect(minmask, 'out_file', maskvarcope, 'in_file2')"
   ]
  },
  {
   "attachments": {},
   "cell_type": "markdown",
   "id": "b5aa1498",
   "metadata": {},
   "source": [
    "### Set up third-level contrasts"
   ]
  },
  {
   "attachments": {},
   "cell_type": "markdown",
   "id": "ec66dc56",
   "metadata": {},
   "source": [
    "Since we only have a single-group set-up, we can actually use [L2Model](https://nipype.readthedocs.io/en/latest/api/generated/nipype.interfaces.fsl.model.html#l2model).\n",
    "If we have an ANOVA-like design, using [MultipleRegressDesign](https://nipype.readthedocs.io/en/latest/api/generated/nipype.interfaces.fsl.model.html#multipleregressdesign) would be a better option."
   ]
  },
  {
   "cell_type": "code",
   "execution_count": 11,
   "id": "30894295",
   "metadata": {
    "tags": []
   },
   "outputs": [],
   "source": [
    "def num_copes(files):\n",
    "    return len(files)\n",
    "\n",
    "level3model = pe.Node(interface=fsl.L2Model(), name='l3model')\n",
    "wf.connect(dg, ('copes',num_copes), level3model, 'num_copes')"
   ]
  },
  {
   "cell_type": "code",
   "execution_count": 12,
   "id": "96af422f",
   "metadata": {
    "tags": []
   },
   "outputs": [],
   "source": [
    "level3estimate = pe.Node(\n",
    "    interface=fsl.FLAMEO(run_mode='flame1'),\n",
    "    name=\"level3estimate\",\n",
    "    iterfield=['cope_file', 'var_cope_file'])\n",
    "\n",
    "wf.connect([\n",
    "    (maskcope, level3estimate, [('out_file', 'cope_file')]),\n",
    "    (maskvarcope, level3estimate, [('out_file', 'var_cope_file')]),\n",
    "    (minmask, level3estimate, [('out_file', 'mask_file')]),\n",
    "    (level3model, level3estimate, [('design_mat', 'design_file'),\n",
    "                                   ('design_con', 't_con_file'), \n",
    "                                   ('design_grp', 'cov_split_file')]),\n",
    "])"
   ]
  },
  {
   "attachments": {},
   "cell_type": "markdown",
   "id": "384095e9-c7a0-4eb8-a91a-f260e6e1cf72",
   "metadata": {},
   "source": [
    "### Post-Stats"
   ]
  },
  {
   "attachments": {},
   "cell_type": "markdown",
   "id": "24563593-7c0a-4665-b4cc-2050c87235b1",
   "metadata": {},
   "source": [
    "#### Smoothness estimation\n",
    "\n",
    "to get `dlh` and `volume` for thresholding\n",
    "\n",
    "**Corresponding FSL command:**\n",
    "\n",
    "```\n",
    "/usr/local/fsl/bin/smoothest -d 25 -m mask -r stats/res4d > stats/smoothness\n",
    "```"
   ]
  },
  {
   "cell_type": "code",
   "execution_count": 13,
   "id": "3a5d1929-34cf-46ec-b974-d6758c4bd5a4",
   "metadata": {
    "tags": []
   },
   "outputs": [],
   "source": [
    "smoothest = pe.Node(\n",
    "    interface=fsl.SmoothEstimate(dof=25),\n",
    "    name=\"smoothest\",\n",
    "    iterfield=['residual_fit_file', 'mask_file'])\n",
    "\n",
    "wf.connect(minmask, 'out_file', smoothest, 'mask_file')\n",
    "wf.connect(level3estimate, 'res4d', smoothest, 'residual_fit_file')"
   ]
  },
  {
   "attachments": {},
   "cell_type": "markdown",
   "id": "44b8aa2d-1455-4218-aa55-76dc2b5cfb98",
   "metadata": {},
   "source": [
    "#### Mask zstats file\n",
    "\n",
    "preparation for thresholding\n",
    "\n",
    "**Corresponding FSL command:**\n",
    "\n",
    "```\n",
    "/usr/local/fsl/bin/fslmaths stats/zstat1 -mas mask thresh_zstat1\n",
    "```"
   ]
  },
  {
   "cell_type": "code",
   "execution_count": 14,
   "id": "c57b99bd-1ed4-41de-a876-acff3812707c",
   "metadata": {
    "tags": []
   },
   "outputs": [],
   "source": [
    "level3mask = pe.Node(\n",
    "    interface=fsl.ImageMaths(op_string='-mas'),\n",
    "    iterfield=['in_file','in_file2'],\n",
    "    name='level3mask')\n",
    "\n",
    "wf.connect([\n",
    "    (level3estimate,level3mask,[('zstats', 'in_file')]),\n",
    "    (minmask, level3mask, [('out_file', 'in_file2')]),\n",
    "])"
   ]
  },
  {
   "attachments": {},
   "cell_type": "markdown",
   "id": "669246c7-bcc7-47dd-af40-467b29a12402",
   "metadata": {},
   "source": [
    "#### Cluster-wise thresholding\n",
    "\n",
    "**Corresponding FSL command:**\n",
    "\n",
    "```\n",
    "/usr/local/fsl/bin/cluster -i thresh_zstat1 -t 3.1 --othresh=thresh_zstat1 -o cluster_mask_zstat1 --connectivity=26 --mm --olmax=lmax_zstat1_std.txt --scalarname=Z -p 0.05 -d 0.0595781 --volume=254734 -c stats/cope1 > cluster_zstat1_std.txt\n",
    "```"
   ]
  },
  {
   "cell_type": "code",
   "execution_count": 15,
   "id": "16730888-f626-4a11-8c63-35b57a042a23",
   "metadata": {
    "tags": []
   },
   "outputs": [],
   "source": [
    "level3threshold = pe.Node(\n",
    "        interface=fsl.Cluster(threshold = 3.1,\n",
    "                              pthreshold = 0.05,\n",
    "                              use_mm = True,\n",
    "                              out_threshold_file =True,\n",
    "                              out_index_file = True,\n",
    "                              out_localmax_txt_file = True),\n",
    "    iterfield=['in_file','cope_file'],\n",
    "    name='level3threshold')\n",
    "\n",
    "wf.connect([\n",
    "    (level3mask, level3threshold, [('out_file', 'in_file')]),\n",
    "    (level3estimate, level3threshold, [('copes', 'cope_file')]),\n",
    "    (smoothest, level3threshold, [('dlh', 'dlh'),\n",
    "                                   ('volume', 'volume')]),\n",
    "])"
   ]
  },
  {
   "attachments": {},
   "cell_type": "markdown",
   "id": "098e8f70-669c-4e13-b830-6958115570cf",
   "metadata": {},
   "source": [
    "## Save the output"
   ]
  },
  {
   "cell_type": "code",
   "execution_count": 16,
   "id": "c9a1ffad",
   "metadata": {
    "tags": []
   },
   "outputs": [],
   "source": [
    "datasink = pe.Node(nio.DataSink(), name='sinker')\n",
    "datasink.inputs.base_directory=os.path.join(exp_dir, \"level3_results\")\n",
    "\n",
    "int2string = lambda x: 'contrast_'+str(x)\n",
    "    \n",
    "wf.connect(infosource, ('contr_id',int2string), datasink, 'container')\n",
    "wf.connect([\n",
    "    (level3estimate, datasink, [('stats_dir', 'stats_dir')]),\n",
    "    (level3threshold, datasink, [('threshold_file', 'thresholded'),\n",
    "                                ('localmax_txt_file', 'localmax_txt'),\n",
    "                                ('index_file', 'index')]),\n",
    "           ])"
   ]
  },
  {
   "cell_type": "code",
   "execution_count": 17,
   "id": "c3b0d796",
   "metadata": {
    "tags": []
   },
   "outputs": [
    {
     "name": "stdout",
     "output_type": "stream",
     "text": [
      "230605-08:52:50,323 nipype.workflow INFO:\n",
      "\t Generated workflow graph: /neurodesktop-storage/Data/Flanker/output_level3/level3/graph.png (graph2use=colored, simple_form=True).\n"
     ]
    },
    {
     "data": {
      "image/png": "[encoded data removed]",
      "text/plain": [
       "<IPython.core.display.Image object>"
      ]
     },
     "execution_count": 17,
     "metadata": {},
     "output_type": "execute_result"
    }
   ],
   "source": [
    "# Create 1st-level analysis output graph\n",
    "wf.write_graph(graph2use='colored', format='png', simple_form=True)\n",
    "\n",
    "# Visualize the graph\n",
    "from IPython.display import Image\n",
    "Image(filename=os.path.join(wf.base_dir, wf.name, 'graph.png'))"
   ]
  },
  {
   "cell_type": "code",
   "execution_count": 18,
   "id": "4d92bb98",
   "metadata": {
    "collapsed": true,
    "jupyter": {
     "outputs_hidden": true
    },
    "tags": []
   },
   "outputs": [
    {
     "name": "stdout",
     "output_type": "stream",
     "text": [
      "230605-08:52:58,193 nipype.workflow INFO:\n",
      "\t Workflow level3 settings: ['check', 'execution', 'logging', 'monitoring']\n",
      "230605-08:52:58,252 nipype.workflow INFO:\n",
      "\t Running in parallel.\n",
      "230605-08:52:58,293 nipype.workflow INFO:\n",
      "\t [MultiProc] Running 0 tasks, and 4 jobs ready. Free memory (GB): 219.50/219.50, Free processors: 8/8.\n",
      "230605-08:52:58,437 nipype.workflow INFO:\n",
      "\t [Node] Setting-up \"level3.selectfiles\" in \"/neurodesktop-storage/Data/Flanker/output_level3/level3/_contr_id_1/selectfiles\".\n",
      "230605-08:52:58,454 nipype.workflow INFO:\n",
      "\t [Node] Executing \"selectfiles\" <nipype.interfaces.io.SelectFiles>\n",
      "230605-08:52:58,456 nipype.workflow INFO:\n",
      "\t [Node] Setting-up \"level3.selectfiles\" in \"/neurodesktop-storage/Data/Flanker/output_level3/level3/_contr_id_3/selectfiles\".\n",
      "230605-08:52:58,455 nipype.workflow INFO:\n",
      "\t [Node] Setting-up \"level3.selectfiles\" in \"/neurodesktop-storage/Data/Flanker/output_level3/level3/_contr_id_2/selectfiles\".\n",
      "230605-08:52:58,458 nipype.workflow INFO:\n",
      "\t [Node] Setting-up \"level3.selectfiles\" in \"/neurodesktop-storage/Data/Flanker/output_level3/level3/_contr_id_4/selectfiles\".\n",
      "230605-08:52:58,460 nipype.workflow INFO:\n",
      "\t [Node] Finished \"selectfiles\", elapsed time 0.003193s.\n",
      "230605-08:52:58,468 nipype.workflow INFO:\n",
      "\t [Node] Executing \"selectfiles\" <nipype.interfaces.io.SelectFiles>\n",
      "230605-08:52:58,468 nipype.workflow INFO:\n",
      "\t [Node] Executing \"selectfiles\" <nipype.interfaces.io.SelectFiles>\n",
      "230605-08:52:58,476 nipype.workflow INFO:\n",
      "\t [Node] Finished \"selectfiles\", elapsed time 0.004993s.\n",
      "230605-08:52:58,476 nipype.workflow INFO:\n",
      "\t [Node] Finished \"selectfiles\", elapsed time 0.004518s.\n",
      "230605-08:52:58,480 nipype.workflow INFO:\n",
      "\t [Node] Executing \"selectfiles\" <nipype.interfaces.io.SelectFiles>\n",
      "230605-08:52:58,486 nipype.workflow INFO:\n",
      "\t [Node] Finished \"selectfiles\", elapsed time 0.003122s.\n",
      "230605-08:53:00,296 nipype.workflow INFO:\n",
      "\t [Job 0] Completed (level3.selectfiles).\n",
      "230605-08:53:00,299 nipype.workflow INFO:\n",
      "\t [Job 1] Completed (level3.selectfiles).\n",
      "230605-08:53:00,301 nipype.workflow INFO:\n",
      "\t [Job 2] Completed (level3.selectfiles).\n",
      "230605-08:53:00,302 nipype.workflow INFO:\n",
      "\t [Job 3] Completed (level3.selectfiles).\n",
      "230605-08:53:00,304 nipype.workflow INFO:\n",
      "\t [MultiProc] Running 0 tasks, and 16 jobs ready. Free memory (GB): 219.50/219.50, Free processors: 8/8.\n",
      "230605-08:53:00,416 nipype.workflow INFO:\n",
      "\t [Job 4] Cached (level3.copemerge).\n",
      "230605-08:53:00,421 nipype.workflow INFO:\n",
      "\t [Job 5] Cached (level3.varcopemerge).\n",
      "230605-08:53:00,426 nipype.workflow INFO:\n",
      "\t [Job 6] Cached (level3.maskmerge).\n",
      "230605-08:53:00,428 nipype.workflow INFO:\n",
      "\t [Job 7] Cached (level3.l3model).\n",
      "230605-08:53:00,432 nipype.workflow INFO:\n",
      "\t [Job 8] Cached (level3.copemerge).\n",
      "230605-08:53:00,436 nipype.workflow INFO:\n",
      "\t [Job 9] Cached (level3.varcopemerge).\n",
      "230605-08:53:00,440 nipype.workflow INFO:\n",
      "\t [Job 10] Cached (level3.maskmerge).\n",
      "230605-08:53:00,443 nipype.workflow INFO:\n",
      "\t [Job 11] Cached (level3.l3model).\n",
      "230605-08:53:02,297 nipype.workflow INFO:\n",
      "\t [MultiProc] Running 0 tasks, and 10 jobs ready. Free memory (GB): 219.50/219.50, Free processors: 8/8.\n",
      "230605-08:53:02,355 nipype.workflow INFO:\n",
      "\t [Job 12] Cached (level3.copemerge).\n",
      "230605-08:53:02,360 nipype.workflow INFO:\n",
      "\t [Job 13] Cached (level3.varcopemerge).\n",
      "230605-08:53:02,364 nipype.workflow INFO:\n",
      "\t [Job 14] Cached (level3.maskmerge).\n",
      "230605-08:53:02,366 nipype.workflow INFO:\n",
      "\t [Job 15] Cached (level3.l3model).\n",
      "230605-08:53:02,369 nipype.workflow INFO:\n",
      "\t [Job 16] Cached (level3.copemerge).\n",
      "230605-08:53:02,373 nipype.workflow INFO:\n",
      "\t [Job 17] Cached (level3.varcopemerge).\n",
      "230605-08:53:02,377 nipype.workflow INFO:\n",
      "\t [Job 18] Cached (level3.maskmerge).\n",
      "230605-08:53:02,379 nipype.workflow INFO:\n",
      "\t [Job 19] Cached (level3.l3model).\n",
      "230605-08:53:04,299 nipype.workflow INFO:\n",
      "\t [MultiProc] Running 0 tasks, and 4 jobs ready. Free memory (GB): 219.50/219.50, Free processors: 8/8.\n",
      "230605-08:53:04,374 nipype.workflow INFO:\n",
      "\t [Job 20] Cached (level3.minmask).\n",
      "230605-08:53:04,383 nipype.workflow INFO:\n",
      "\t [Job 21] Cached (level3.minmask).\n",
      "230605-08:53:04,390 nipype.workflow INFO:\n",
      "\t [Job 22] Cached (level3.minmask).\n",
      "230605-08:53:04,394 nipype.workflow INFO:\n",
      "\t [Job 23] Cached (level3.minmask).\n",
      "230605-08:53:06,301 nipype.workflow INFO:\n",
      "\t [MultiProc] Running 0 tasks, and 8 jobs ready. Free memory (GB): 219.50/219.50, Free processors: 8/8.\n",
      "230605-08:53:06,360 nipype.workflow INFO:\n",
      "\t [Job 24] Cached (level3.maskcope).\n",
      "230605-08:53:06,365 nipype.workflow INFO:\n",
      "\t [Job 25] Cached (level3.maskvarcope).\n",
      "230605-08:53:06,382 nipype.workflow INFO:\n",
      "\t [Job 26] Cached (level3.maskcope).\n",
      "230605-08:53:06,387 nipype.workflow INFO:\n",
      "\t [Job 27] Cached (level3.maskvarcope).\n",
      "230605-08:53:06,413 nipype.workflow INFO:\n",
      "\t [Job 28] Cached (level3.maskcope).\n",
      "230605-08:53:06,420 nipype.workflow INFO:\n",
      "\t [Job 29] Cached (level3.maskvarcope).\n",
      "230605-08:53:06,425 nipype.workflow INFO:\n",
      "\t [Job 30] Cached (level3.maskcope).\n",
      "230605-08:53:06,448 nipype.workflow INFO:\n",
      "\t [Job 31] Cached (level3.maskvarcope).\n",
      "230605-08:53:08,303 nipype.workflow INFO:\n",
      "\t [MultiProc] Running 0 tasks, and 4 jobs ready. Free memory (GB): 219.50/219.50, Free processors: 8/8.\n",
      "230605-08:53:08,381 nipype.workflow INFO:\n",
      "\t [Job 32] Cached (level3.level3estimate).\n",
      "230605-08:53:08,397 nipype.workflow INFO:\n",
      "\t [Job 33] Cached (level3.level3estimate).\n",
      "230605-08:53:08,429 nipype.workflow INFO:\n",
      "\t [Job 34] Cached (level3.level3estimate).\n",
      "230605-08:53:08,438 nipype.workflow INFO:\n",
      "\t [Job 35] Cached (level3.level3estimate).\n",
      "230605-08:53:10,305 nipype.workflow INFO:\n",
      "\t [MultiProc] Running 0 tasks, and 8 jobs ready. Free memory (GB): 219.50/219.50, Free processors: 8/8.\n",
      "230605-08:53:10,393 nipype.workflow INFO:\n",
      "\t [Job 36] Cached (level3.smoothest).\n",
      "230605-08:53:10,397 nipype.workflow INFO:\n",
      "\t [Job 37] Cached (level3.level3mask).\n",
      "230605-08:53:10,409 nipype.workflow INFO:\n",
      "\t [Job 38] Cached (level3.smoothest).\n",
      "230605-08:53:10,413 nipype.workflow INFO:\n",
      "\t [Job 39] Cached (level3.level3mask).\n",
      "230605-08:53:10,446 nipype.workflow INFO:\n",
      "\t [Job 40] Cached (level3.smoothest).\n",
      "230605-08:53:10,450 nipype.workflow INFO:\n",
      "\t [Job 41] Cached (level3.level3mask).\n",
      "230605-08:53:10,473 nipype.workflow INFO:\n",
      "\t [Job 42] Cached (level3.smoothest).\n",
      "230605-08:53:10,476 nipype.workflow INFO:\n",
      "\t [Job 43] Cached (level3.level3mask).\n",
      "230605-08:53:12,307 nipype.workflow INFO:\n",
      "\t [MultiProc] Running 0 tasks, and 4 jobs ready. Free memory (GB): 219.50/219.50, Free processors: 8/8.\n",
      "230605-08:53:12,383 nipype.workflow INFO:\n",
      "\t [Job 44] Cached (level3.level3threshold).\n",
      "230605-08:53:12,389 nipype.workflow INFO:\n",
      "\t [Job 45] Cached (level3.level3threshold).\n",
      "230605-08:53:12,395 nipype.workflow INFO:\n",
      "\t [Job 46] Cached (level3.level3threshold).\n",
      "230605-08:53:12,439 nipype.workflow INFO:\n",
      "\t [Job 47] Cached (level3.level3threshold).\n",
      "230605-08:53:14,362 nipype.workflow INFO:\n",
      "\t [Node] Setting-up \"level3.sinker\" in \"/neurodesktop-storage/Data/Flanker/output_level3/level3/_contr_id_1/sinker\".\n",
      "230605-08:53:14,372 nipype.workflow INFO:\n",
      "\t [Node] Executing \"sinker\" <nipype.interfaces.io.DataSink>\n",
      "230605-08:53:14,370 nipype.workflow INFO:\n",
      "\t [Node] Setting-up \"level3.sinker\" in \"/neurodesktop-storage/Data/Flanker/output_level3/level3/_contr_id_2/sinker\".\n",
      "230605-08:53:14,386 nipype.workflow INFO:\n",
      "\t [Node] Executing \"sinker\" <nipype.interfaces.io.DataSink>\n",
      "230605-08:53:14,401 nipype.workflow INFO:\n",
      "\t [Node] Setting-up \"level3.sinker\" in \"/neurodesktop-storage/Data/Flanker/output_level3/level3/_contr_id_3/sinker\".\n",
      "230605-08:53:14,416 nipype.workflow INFO:\n",
      "\t [Node] Executing \"sinker\" <nipype.interfaces.io.DataSink>\n",
      "230605-08:53:14,417 nipype.workflow INFO:\n",
      "\t [Node] Setting-up \"level3.sinker\" in \"/neurodesktop-storage/Data/Flanker/output_level3/level3/_contr_id_4/sinker\".\n",
      "230605-08:53:14,424 nipype.workflow INFO:\n",
      "\t [Node] Executing \"sinker\" <nipype.interfaces.io.DataSink>\n",
      "230605-08:53:16,316 nipype.workflow INFO:\n",
      "\t [MultiProc] Running 4 tasks, and 0 jobs ready. Free memory (GB): 218.70/219.50, Free processors: 4/8.\n",
      "                     Currently running:\n",
      "                       * level3.sinker\n",
      "                       * level3.sinker\n",
      "                       * level3.sinker\n",
      "                       * level3.sinker\n",
      "230605-08:53:17,848 nipype.workflow INFO:\n",
      "\t [Node] Finished \"sinker\", elapsed time 3.472743s.\n",
      "230605-08:53:18,316 nipype.workflow INFO:\n",
      "\t [Job 48] Completed (level3.sinker).\n",
      "230605-08:53:18,318 nipype.workflow INFO:\n",
      "\t [MultiProc] Running 3 tasks, and 0 jobs ready. Free memory (GB): 218.90/219.50, Free processors: 5/8.\n",
      "                     Currently running:\n",
      "                       * level3.sinker\n",
      "                       * level3.sinker\n",
      "                       * level3.sinker\n",
      "230605-08:53:18,385 nipype.workflow INFO:\n",
      "\t [Node] Finished \"sinker\", elapsed time 3.990036s.\n",
      "230605-08:53:18,700 nipype.workflow INFO:\n",
      "\t [Node] Finished \"sinker\", elapsed time 4.273395s.\n",
      "230605-08:53:18,766 nipype.workflow INFO:\n",
      "\t [Node] Finished \"sinker\", elapsed time 4.347068s.\n",
      "230605-08:53:20,318 nipype.workflow INFO:\n",
      "\t [Job 49] Completed (level3.sinker).\n",
      "230605-08:53:20,324 nipype.workflow INFO:\n",
      "\t [Job 50] Completed (level3.sinker).\n",
      "230605-08:53:20,325 nipype.workflow INFO:\n",
      "\t [Job 51] Completed (level3.sinker).\n",
      "230605-08:53:20,327 nipype.workflow INFO:\n",
      "\t [MultiProc] Running 0 tasks, and 0 jobs ready. Free memory (GB): 219.50/219.50, Free processors: 8/8.\n"
     ]
    },
    {
     "data": {
      "text/plain": [
       "<networkx.classes.digraph.DiGraph at 0x7f218bb363b0>"
      ]
     },
     "execution_count": 18,
     "metadata": {},
     "output_type": "execute_result"
    }
   ],
   "source": [
    "# Run Workflow\n",
    "wf.run(plugin=\"MultiProc\", plugin_args={\"n_procs\": 8})"
   ]
  },
  {
   "attachments": {},
   "cell_type": "markdown",
   "id": "10b89c05",
   "metadata": {},
   "source": [
    "## Unthresholded COPEs"
   ]
  },
  {
   "cell_type": "code",
   "execution_count": null,
   "id": "98ed20c6",
   "metadata": {},
   "outputs": [],
   "source": [
    "%%capture\n",
    "conda install -c conda-forge nilearn\n",
    "conda install -c conda-forge matplotlib"
   ]
  },
  {
   "cell_type": "code",
   "execution_count": null,
   "id": "01203c1b",
   "metadata": {},
   "outputs": [],
   "source": [
    "import numpy as np\n",
    "import matplotlib.pyplot as plt\n",
    "\n",
    "import nilearn\n",
    "from nilearn import surface\n",
    "from nilearn import plotting\n",
    "\n",
    "fsaverage = nilearn.datasets.fetch_surf_fsaverage()\n",
    "plotting.show() "
   ]
  },
  {
   "cell_type": "code",
   "execution_count": null,
   "id": "db660876",
   "metadata": {},
   "outputs": [],
   "source": [
    "nipype_cope1 = '/neurodesktop-storage/Data/Flanker/output_level3/level3_results/contrast_1/stats_dir/_contr_id_1/stats/cope1.nii.gz'\n",
    "nipype_cope2 = '/neurodesktop-storage/Data/Flanker/output_level3/level3_results/contrast_2/stats_dir/_contr_id_2/stats/cope1.nii.gz'\n",
    "nipype_cope3 = '/neurodesktop-storage/Data/Flanker/output_level3/level3_results/contrast_3/stats_dir/_contr_id_3/stats/cope1.nii.gz'\n",
    "nipype_cope4 = '/neurodesktop-storage/Data/Flanker/output_level3/level3_results/contrast_4/stats_dir/_contr_id_4/stats/cope1.nii.gz'"
   ]
  },
  {
   "cell_type": "code",
   "execution_count": null,
   "id": "3384a48c",
   "metadata": {},
   "outputs": [],
   "source": [
    "t_nipype_cope1 = surface.vol_to_surf(nipype_cope1, fsaverage.pial_right)\n",
    "plotting.plot_surf_stat_map(\n",
    "        fsaverage.infl_right, t_nipype_cope1, hemi='right',\n",
    "        title=\"Nipype - COPE1\", colorbar=False,\n",
    "        cmap = 'bwr', bg_map=fsaverage.sulc_right)\n",
    "plt.show()\n",
    "\n",
    "\n",
    "t_nipype_cope2 = surface.vol_to_surf(nipype_cope2, fsaverage.pial_right)\n",
    "plotting.plot_surf_stat_map(\n",
    "        fsaverage.infl_right, t_nipype_cope2, hemi='right',\n",
    "        title=\"Nipype - COPE2\", colorbar=False,\n",
    "        cmap = 'bwr', bg_map=fsaverage.sulc_right)\n",
    "plt.show()\n",
    "\n",
    "\n",
    "t_nipype_cope3 = surface.vol_to_surf(nipype_cope3, fsaverage.pial_right)\n",
    "plotting.plot_surf_stat_map(\n",
    "        fsaverage.infl_right, t_nipype_cope3, hemi='right',\n",
    "        title=\"Nipype - COPE3\", colorbar=False,\n",
    "        cmap = 'bwr', bg_map=fsaverage.sulc_right)\n",
    "plt.show()\n",
    "\n",
    "\n",
    "t_nipype_cope4 = surface.vol_to_surf(nipype_cope4, fsaverage.pial_right)\n",
    "plotting.plot_surf_stat_map(\n",
    "        fsaverage.infl_right, t_nipype_cope4, hemi='right',\n",
    "        title=\"Nipype - COPE4\", colorbar=False,\n",
    "        cmap = 'bwr', bg_map=fsaverage.sulc_right)\n",
    "plt.show()"
   ]
  },
  {
   "attachments": {},
   "cell_type": "markdown",
   "id": "47e7dfac",
   "metadata": {},
   "source": [
    "### Thresholded (p < 0.05) zstats"
   ]
  },
  {
   "cell_type": "code",
   "execution_count": null,
   "id": "c53ae208",
   "metadata": {},
   "outputs": [],
   "source": [
    "nipype_cope1 = '/neurodesktop-storage/Data/Flanker/output_level3/level3_results/contrast_1/thresholded/_contr_id_1/zstat1_maths_threshold.nii.gz'\n",
    "nipype_cope2 = '/neurodesktop-storage/Data/Flanker/output_level3/level3_results/contrast_2/thresholded/_contr_id_2/zstat1_maths_threshold.nii.gz'\n",
    "nipype_cope3 = '/neurodesktop-storage/Data/Flanker/output_level3/level3_results/contrast_3/thresholded/_contr_id_3/zstat1_maths_threshold.nii.gz'\n",
    "nipype_cope4 = '/neurodesktop-storage/Data/Flanker/output_level3/level3_results/contrast_4/thresholded/_contr_id_4/zstat1_maths_threshold.nii.gz'"
   ]
  },
  {
   "cell_type": "code",
   "execution_count": null,
   "id": "f4f070e5",
   "metadata": {},
   "outputs": [],
   "source": [
    "plotting.plot_img_on_surf(nipype_cope1,\n",
    "                          views=['lateral'],\n",
    "                          hemispheres=['right'],\n",
    "                          title=\"Nipype - Thresholded-zstats1\",\n",
    "                          cmap = 'hot', colorbar=True)\n",
    "plotting.show()\n",
    "\n",
    "plotting.plot_img_on_surf(nipype_cope2,\n",
    "                          views=['lateral'],\n",
    "                          hemispheres=['right'],\n",
    "                          title=\"Nipype - Thresholded-zstats2\",\n",
    "                          cmap = 'hot', colorbar=True)\n",
    "plotting.show()\n",
    "\n",
    "\n",
    "plotting.plot_img_on_surf(nipype_cope3,\n",
    "                          views=['lateral'],\n",
    "                          hemispheres=['right'],\n",
    "                          title=\"Nipype - Thresholded-zstats3\",\n",
    "                          cmap = 'hot', colorbar=True)\n",
    "plotting.show()\n",
    "\n",
    "\n",
    "plotting.plot_img_on_surf(nipype_cope4,\n",
    "                          views=['lateral'],\n",
    "                          hemispheres=['right'],\n",
    "                          title=\"Nipype - Thresholded-zstats4\",\n",
    "                          cmap = 'hot', colorbar=True)\n",
    "plotting.show()"
   ]
  }
 ],
 "metadata": {
  "kernelspec": {
   "display_name": "Python 3 (ipykernel)",
   "language": "python",
   "name": "python3"
  },
  "language_info": {
   "codemirror_mode": {
    "name": "ipython",
    "version": 3
   },
   "file_extension": ".py",
   "mimetype": "text/x-python",
   "name": "python",
   "nbconvert_exporter": "python",
   "pygments_lexer": "ipython3",
   "version": "3.10.10"
  },
  "vscode": {
   "interpreter": {
    "hash": "db772567c4567f4b3d1f56ed53e5d7229d15382f6d3dfec57e0c55f7b5cf2dd9"
   }
  }
 },
 "nbformat": 4,
 "nbformat_minor": 5
}

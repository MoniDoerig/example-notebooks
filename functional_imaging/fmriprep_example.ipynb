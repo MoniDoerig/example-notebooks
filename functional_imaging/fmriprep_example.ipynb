{
 "cells": [
  {
   "attachments": {},
   "cell_type": "markdown",
   "metadata": {
    "colab_type": "text",
    "id": "view-in-github"
   },
   "source": [
    "<a href=\"https://play-sydney.neurodesk.org/v2/gh/neurodesk/example-notebooks/main?labpath=%2Ffunctional_imaging%2Ffmriprep_example.ipynb\" target=\"_parent\"><img src=\"https://img.shields.io/badge/launch-binder-579aca.svg?logo=data:image/png;base64,iVBORw0KGgoAAAANSUhEUgAAABAAAAAQCAYAAAAf8/9hAAADUElEQVR4nCyTzUtkRxfGn6pTtz/FtvsVp32NKBgF6QiBCU505xBpBdsJiMkyi2SRxSSEZPI3JKuEbGYREgaCi0zMENBeSCSCqwzRCCIzSBtHuqEl9ihif9zbfe+tqnCaqdXh1q1znuec31EAkM/nEYlEcH5+jmw2K5VSwvM8rVT3GmEYIh6PUxiGtlKpmNHRUQRBgK2tLdDi4iLOzs4wMjKCaDRKxhijlLIRx0kmk8lhIkoHQeArpTpaa5vJZCgej9vj42NMT09DVSoVXF5ewm21SAihAbwJ4HM/CO42ms2slJIT/wvgD2vtN9baQ8/zqFqtaiKCYIlLS0uklNJBEHwspfyu2WpF+lIpTIyPo9Fs4sXZGYzWiMVinTAMPyWi7621VCwWtSgUCuxNSynfl1L+zDLvzs3pd+/do/8PDsJrt1EqlfDL+rp+9vw5xWIxobV+T2u97jgOScdxjLU2o5R66LquffvOHfPJ/fuqL5USFxcXgs9bt2+LLx88UIPZrAmCwBLRQwBpfistayFaBZCBELqvr4+01uAJOI6DiOPg5uYG2Vu3MDc3R51ORwsh+olopft2cnISxpgvhBBvdNptWyqVZOnkBP/LZPD6xARe1mqonp+jVqvh1ydPcHV1ZdiGtbZORL91m7i8vLzt+/47+Xxe53I5+vPpU9xcX+O14WEcHBygv78fuVwOPP/t7W19eHhI0Wj0942NjbxaXV1Fu91uEhFb6c52fn4ejUYD+/v73XhsbIxBQrlcxs7ODqSUFkBjZWUFMpPJwFq7z/Stra1ZrthqtdgWewZb9DyPi6BYLHIC+2oSf/f29kIODQ1Ba/2YIerp6RG+79tkMgm+dF23i3E6nWYGGF/L/xhjQmvt41QqBbm3t8cQ/QPgaykllUqlIAgCI4RAIpFgCsFxo1E35XI5UEoRgK+klC9OT09JLCwsCMdx5NHRkZmamnqktf5gYGAAMzMzmJ2dNaxid3dXsrV6vQ4ierS5uflhoVCQYRgawcsEQLDsRCJhr6+vP/J9/7NOp5Nj2dwL3rxYLPZMKfVtOp3+0XVdwX0CYBXL44ArWWsZrB9yudxP1Wp12vO88VfLdNLTk/yrVnvpu64rm82m4e98/gsAAP//Lbmu802E+U4AAAAASUVORK5CYII=\" alt=\"Open In Binder\"/>  </a>\n",
    "<a href=\"https://colab.research.google.com/github/NeuroDesk/example-notebooks/blob/main/functional%20imaging/fmriprep_example.ipynb\" target=\"_parent\"><img src=\"https://colab.research.google.com/assets/colab-badge.svg\" alt=\"Open In Colab\"/>  </a>"
   ]
  },
  {
   "attachments": {},
   "cell_type": "markdown",
   "metadata": {},
   "source": [
    "Author: Steffen Bollmann"
   ]
  },
  {
   "attachments": {},
   "cell_type": "markdown",
   "metadata": {
    "id": "JkhI6CLRoPU_"
   },
   "source": [
    "## Setup Neurodesk"
   ]
  },
  {
   "cell_type": "code",
   "execution_count": 2,
   "metadata": {
    "colab": {
     "base_uri": "https://localhost:8080/"
    },
    "id": "Jfdj9uK8fIEP",
    "outputId": "e286b923-463e-4ca8-8f2a-c03d27d8a872"
   },
   "outputs": [],
   "source": [
    "%%capture\n",
    "import os\n",
    "import sys\n",
    "IN_COLAB = 'google.colab' in sys.modules\n",
    "\n",
    "if IN_COLAB:\n",
    "  os.environ[\"LD_PRELOAD\"] = \"\";\n",
    "  os.environ[\"APPTAINER_BINDPATH\"] = \"/content\"\n",
    "  os.environ[\"MPLCONFIGDIR\"] = \"/content/matplotlib-mpldir\"\n",
    "  os.environ[\"LMOD_CMD\"] = \"/usr/share/lmod/lmod/libexec/lmod\"\n",
    "\n",
    "  !curl -J -O https://raw.githubusercontent.com/NeuroDesk/neurocommand/main/googlecolab_setup.sh\n",
    "  !chmod +x googlecolab_setup.sh\n",
    "  !./googlecolab_setup.sh\n",
    "\n",
    "  os.environ[\"MODULEPATH\"] = ':'.join(map(str, list(map(lambda x: os.path.join(os.path.abspath('/cvmfs/neurodesk.ardc.edu.au/neurodesk-modules/'), x),os.listdir('/cvmfs/neurodesk.ardc.edu.au/neurodesk-modules/')))))\n"
   ]
  },
  {
   "attachments": {},
   "cell_type": "markdown",
   "metadata": {
    "id": "Emcl6_v2oS8w"
   },
   "source": [
    "## Example"
   ]
  },
  {
   "cell_type": "code",
   "execution_count": null,
   "metadata": {
    "colab": {
     "base_uri": "https://localhost:8080/"
    },
    "id": "KP-zWRC-fpq-",
    "outputId": "5d32f567-153d-4d5a-e181-01eb08c8ac96"
   },
   "outputs": [
    {
     "data": {
      "text/plain": [
       "['fmriprep/22.1.1']"
      ]
     },
     "execution_count": 2,
     "metadata": {},
     "output_type": "execute_result"
    }
   ],
   "source": [
    "# load fmriprep\n",
    "import lmod\n",
    "import os\n",
    "await lmod.load('fmriprep/22.1.1')\n",
    "await lmod.list()"
   ]
  },
  {
   "cell_type": "code",
   "execution_count": null,
   "metadata": {
    "id": "HCuMtD1jfsOh"
   },
   "outputs": [],
   "source": [
    "%%bash\n",
    "# Request a freesurfer license and store it in your homedirectory. This is just an exampe - please replace with your license id:\n",
    "echo \"Steffen.Bollmann@cai.uq.edu.au\" > ~/.license\n",
    "echo \"21029\" >> ~/.license\n",
    "echo \"*Cqyn12sqTCxo\" >> ~/.license\n",
    "echo \"FSxgcvGkNR59Y\" >> ~/.license"
   ]
  },
  {
   "cell_type": "code",
   "execution_count": null,
   "metadata": {
    "colab": {
     "base_uri": "https://localhost:8080/"
    },
    "id": "B2b1ZHDFfu7a",
    "outputId": "dc408c99-c534-4a43-b349-eb6a4e57d52c"
   },
   "outputs": [
    {
     "name": "stdout",
     "output_type": "stream",
     "text": [
      "install(ok): /content/ds000102 (dataset)\n",
      "get(ok): sub-08/anat/sub-08_T1w.nii.gz (file) [from s3-PUBLIC...]\n",
      "get(ok): sub-08/func/sub-08_task-flanker_run-2_bold.nii.gz (file) [from s3-PUBLIC...]\n",
      "get(ok): sub-08/func/sub-08_task-flanker_run-1_bold.nii.gz (file) [from s3-PUBLIC...]\n",
      "get(ok): sub-08 (directory)\n",
      "action summary:\n",
      "  get (ok: 4)\n"
     ]
    },
    {
     "name": "stderr",
     "output_type": "stream",
     "text": [
      "It is highly recommended to configure Git before using DataLad. Set both 'user.name' and 'user.email' configuration variables.\n",
      "It is highly recommended to configure Git before using DataLad. Set both 'user.name' and 'user.email' configuration variables.\n",
      "[INFO] Cloning dataset to <Dataset path=/content/ds000102> \n",
      "[INFO] Attempting to clone from https://github.com/OpenNeuroDatasets/ds000102.git to /content/ds000102 \n",
      "[INFO] Completed clone attempts for <Dataset path=/content/ds000102> \n",
      "[INFO]  \n",
      "[INFO] *** Please tell me who you are. \n",
      "[INFO]  \n",
      "[INFO] Run \n",
      "[INFO]  \n",
      "[INFO]   git config --global user.email \"you@example.com\" \n",
      "[INFO]   git config --global user.name \"Your Name\" \n",
      "[INFO]  \n",
      "[INFO] to set your account's default identity. \n",
      "[INFO] Omit --global to set the identity only in this repository. \n",
      "[INFO]  \n",
      "[INFO] fatal: unable to auto-detect email address (got 'root@fd558dc16c5a.(none)') \n",
      "[INFO]   Remote origin not usable by git-annex; setting annex-ignore \n",
      "[INFO] access to 1 dataset sibling s3-PRIVATE not auto-enabled, enable with:\n",
      "| \t\tdatalad siblings -d \"/content/ds000102\" enable -s s3-PRIVATE \n",
      "It is highly recommended to configure Git before using DataLad. Set both 'user.name' and 'user.email' configuration variables.\n",
      "It is highly recommended to configure Git before using DataLad. Set both 'user.name' and 'user.email' configuration variables.\n"
     ]
    }
   ],
   "source": [
    "%%bash\n",
    "# download data\n",
    "datalad install https://github.com/OpenNeuroDatasets/ds000102.git\n",
    "cd ds000102 && datalad get sub-08"
   ]
  },
  {
   "cell_type": "code",
   "execution_count": null,
   "metadata": {
    "id": "n_3LSJARfy5K"
   },
   "outputs": [],
   "source": [
    "%%bash\n",
    "export ITK_GLOBAL_DEFAULT_NUMBER_OF_THREADS=2 # specify the number of threads you want to use\n",
    "export MPLCONFIGDIR=~/matplotlib-mpldir\n",
    "\n",
    "fmriprep ds000102/ content/ participant --fs-license-file ~/.license --output-spaces T1w MNI152NLin2009cAsym fsaverage fsnative --participant-label 08 --nprocs $ITK_GLOBAL_DEFAULT_NUMBER_OF_THREADS --mem 10000 --skip_bids_validation -v "
   ]
  }
 ],
 "metadata": {
  "colab": {
   "include_colab_link": true,
   "provenance": []
  },
  "kernelspec": {
   "display_name": "Python 3",
   "name": "python3"
  },
  "language_info": {
   "name": "python"
  }
 },
 "nbformat": 4,
 "nbformat_minor": 0
}

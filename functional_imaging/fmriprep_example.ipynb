{
  "cells": [
  {
   "cell_type": "markdown",
   "metadata": {
    "colab_type": "text",
    "id": "view-in-github"
   },
   "source": [
    "<a href=\"https://hub.play-sydney.neurodesk.org/user/neurodesk-example-notebooks-toudo5lh/lab/workspaces/auto-4/tree/functional%20imaging/fmriprep_example.ipynb\" target=\"_parent\"><img src=\"https://img.shields.io/badge/launch-binder-579aca.svg?logo=data:image/png;base64,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\" alt=\"Open In Binder\"/>  </a>\n",
    "<a href=\"https://colab.research.google.com/github/NeuroDesk/example-notebooks/blob/main/functional%20imaging/fmriprep_example.ipynb\" target=\"_parent\"><img src=\"https://colab.research.google.com/assets/colab-badge.svg\" alt=\"Open In Colab\"/>  </a>"
   ]
  },
    {
      "attachments": {},
      "cell_type": "markdown",
      "metadata": {},
      "source": [
        "Author: Steffen Bollmann"
      ]
    },
    {
      "attachments": {},
      "cell_type": "markdown",
      "metadata": {
        "id": "JkhI6CLRoPU_"
      },
      "source": [
        "## Setup Neurodesk"
      ]
    },
    {
      "cell_type": "code",
      "execution_count": 2,
      "metadata": {
        "colab": {
          "base_uri": "https://localhost:8080/"
        },
        "id": "Jfdj9uK8fIEP",
        "outputId": "e286b923-463e-4ca8-8f2a-c03d27d8a872"
      },
      "outputs": [],
      "source": [
        "%%capture\n",
        "import os\n",
        "import sys\n",
        "IN_COLAB = 'google.colab' in sys.modules\n",
        "\n",
        "if IN_COLAB:\n",
        "  os.environ[\"LD_PRELOAD\"] = \"\";\n",
        "  os.environ[\"APPTAINER_BINDPATH\"] = \"/content\"\n",
        "  os.environ[\"MPLCONFIGDIR\"] = \"/content/matplotlib-mpldir\"\n",
        "  os.environ[\"LMOD_CMD\"] = \"/usr/share/lmod/lmod/libexec/lmod\"\n",
        "\n",
        "  !curl -J -O https://raw.githubusercontent.com/NeuroDesk/neurocommand/main/googlecolab_setup.sh\n",
        "  !chmod +x googlecolab_setup.sh\n",
        "  !./googlecolab_setup.sh\n",
        "\n",
        "  os.environ[\"MODULEPATH\"] = ':'.join(map(str, list(map(lambda x: os.path.join(os.path.abspath('/cvmfs/neurodesk.ardc.edu.au/neurodesk-modules/'), x),os.listdir('/cvmfs/neurodesk.ardc.edu.au/neurodesk-modules/')))))\n"
      ]
    },
    {
      "attachments": {},
      "cell_type": "markdown",
      "metadata": {
        "id": "Emcl6_v2oS8w"
      },
      "source": [
        "## Example"
      ]
    },
    {
      "cell_type": "code",
      "execution_count": null,
      "metadata": {
        "colab": {
          "base_uri": "https://localhost:8080/"
        },
        "id": "KP-zWRC-fpq-",
        "outputId": "5d32f567-153d-4d5a-e181-01eb08c8ac96"
      },
      "outputs": [
        {
          "data": {
            "text/plain": [
              "['fmriprep/22.1.1']"
            ]
          },
          "execution_count": 2,
          "metadata": {},
          "output_type": "execute_result"
        }
      ],
      "source": [
        "# load fmriprep\n",
        "import lmod\n",
        "import os\n",
        "await lmod.load('fmriprep/22.1.1')\n",
        "await lmod.list()"
      ]
    },
    {
      "cell_type": "code",
      "execution_count": null,
      "metadata": {
        "id": "HCuMtD1jfsOh"
      },
      "outputs": [],
      "source": [
        "%%bash\n",
        "# Request a freesurfer license and store it in your homedirectory. This is just an exampe - please replace with your license id:\n",
        "echo \"Steffen.Bollmann@cai.uq.edu.au\" > ~/.license\n",
        "echo \"21029\" >> ~/.license\n",
        "echo \"*Cqyn12sqTCxo\" >> ~/.license\n",
        "echo \"FSxgcvGkNR59Y\" >> ~/.license"
      ]
    },
    {
      "cell_type": "code",
      "execution_count": null,
      "metadata": {
        "colab": {
          "base_uri": "https://localhost:8080/"
        },
        "id": "B2b1ZHDFfu7a",
        "outputId": "dc408c99-c534-4a43-b349-eb6a4e57d52c"
      },
      "outputs": [
        {
          "name": "stdout",
          "output_type": "stream",
          "text": [
            "install(ok): /content/ds000102 (dataset)\n",
            "get(ok): sub-08/anat/sub-08_T1w.nii.gz (file) [from s3-PUBLIC...]\n",
            "get(ok): sub-08/func/sub-08_task-flanker_run-2_bold.nii.gz (file) [from s3-PUBLIC...]\n",
            "get(ok): sub-08/func/sub-08_task-flanker_run-1_bold.nii.gz (file) [from s3-PUBLIC...]\n",
            "get(ok): sub-08 (directory)\n",
            "action summary:\n",
            "  get (ok: 4)\n"
          ]
        },
        {
          "name": "stderr",
          "output_type": "stream",
          "text": [
            "It is highly recommended to configure Git before using DataLad. Set both 'user.name' and 'user.email' configuration variables.\n",
            "It is highly recommended to configure Git before using DataLad. Set both 'user.name' and 'user.email' configuration variables.\n",
            "[INFO] Cloning dataset to <Dataset path=/content/ds000102> \n",
            "[INFO] Attempting to clone from https://github.com/OpenNeuroDatasets/ds000102.git to /content/ds000102 \n",
            "[INFO] Completed clone attempts for <Dataset path=/content/ds000102> \n",
            "[INFO]  \n",
            "[INFO] *** Please tell me who you are. \n",
            "[INFO]  \n",
            "[INFO] Run \n",
            "[INFO]  \n",
            "[INFO]   git config --global user.email \"you@example.com\" \n",
            "[INFO]   git config --global user.name \"Your Name\" \n",
            "[INFO]  \n",
            "[INFO] to set your account's default identity. \n",
            "[INFO] Omit --global to set the identity only in this repository. \n",
            "[INFO]  \n",
            "[INFO] fatal: unable to auto-detect email address (got 'root@fd558dc16c5a.(none)') \n",
            "[INFO]   Remote origin not usable by git-annex; setting annex-ignore \n",
            "[INFO] access to 1 dataset sibling s3-PRIVATE not auto-enabled, enable with:\n",
            "| \t\tdatalad siblings -d \"/content/ds000102\" enable -s s3-PRIVATE \n",
            "It is highly recommended to configure Git before using DataLad. Set both 'user.name' and 'user.email' configuration variables.\n",
            "It is highly recommended to configure Git before using DataLad. Set both 'user.name' and 'user.email' configuration variables.\n"
          ]
        }
      ],
      "source": [
        "%%bash\n",
        "# download data\n",
        "datalad install https://github.com/OpenNeuroDatasets/ds000102.git\n",
        "cd ds000102 && datalad get sub-08"
      ]
    },
    {
      "cell_type": "code",
      "execution_count": null,
      "metadata": {
        "id": "n_3LSJARfy5K"
      },
      "outputs": [],
      "source": [
        "%%bash\n",
        "export ITK_GLOBAL_DEFAULT_NUMBER_OF_THREADS=2 # specify the number of threads you want to use\n",
        "export MPLCONFIGDIR=~/matplotlib-mpldir\n",
        "\n",
        "fmriprep ds000102/ content/ participant --fs-license-file ~/.license --output-spaces T1w MNI152NLin2009cAsym fsaverage fsnative --participant-label 08 --nprocs $ITK_GLOBAL_DEFAULT_NUMBER_OF_THREADS --mem 10000 --skip_bids_validation -v "
      ]
    }
  ],
  "metadata": {
    "colab": {
      "include_colab_link": true,
      "provenance": []
    },
    "kernelspec": {
      "display_name": "Python 3",
      "name": "python3"
    },
    "language_info": {
      "name": "python"
    }
  },
  "nbformat": 4,
  "nbformat_minor": 0
}
